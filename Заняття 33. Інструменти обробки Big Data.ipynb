{
 "cells": [
  {
   "cell_type": "markdown",
   "metadata": {
    "application/vnd.databricks.v1+cell": {
     "cellMetadata": {
      "byteLimit": 2048000,
      "rowLimit": 10000
     },
     "inputWidgets": {},
     "nuid": "498b0413-98f6-4663-ada5-d59b971d60a4",
     "showTitle": false,
     "title": ""
    }
   },
   "source": [
    "### Spark приклад"
   ]
  },
  {
   "cell_type": "markdown",
   "metadata": {
    "application/vnd.databricks.v1+cell": {
     "cellMetadata": {
      "byteLimit": 2048000,
      "rowLimit": 10000
     },
     "inputWidgets": {},
     "nuid": "339d2de8-d11b-4a2c-a272-eb42ad061bb2",
     "showTitle": false,
     "title": ""
    }
   },
   "source": [
    "#### Операції (трансформації та дії) в PySpark"
   ]
  },
  {
   "cell_type": "code",
   "execution_count": 0,
   "metadata": {
    "application/vnd.databricks.v1+cell": {
     "cellMetadata": {
      "byteLimit": 2048000,
      "rowLimit": 10000
     },
     "inputWidgets": {},
     "nuid": "e8279f9e-e1c3-4805-b009-ba5647c17b41",
     "showTitle": false,
     "title": ""
    }
   },
   "outputs": [],
   "source": [
    "# Завантажуємо необхідні методи\n",
    "from pyspark.sql.functions import col, sum\n",
    "\n",
    "# Створюємо навчальні дані\n",
    "data = [(\"Alice\", 34, 5000), (\"Bob\", 45, 6000), (\"Cathy\", 29, 4000), (\"David\", 34, 7000)]\n",
    "columns = [\"Name\", \"Age\", \"Salary\"]\n",
    "\n",
    "# Створюємо Spark DataFrame\n",
    "df = spark.createDataFrame(data, columns)\n",
    "\n",
    "# Трансформації / Transformations\n",
    "df_filtered = df.filter(col(\"Age\") > 30)\n",
    "df_with_bonus = df_filtered.withColumn(\"Bonus\", col(\"Salary\") * 0.10)\n",
    "df_total = df_with_bonus.groupBy(\"Age\").agg(sum(\"Bonus\").alias(\"TotalBonus\"))"
   ]
  },
  {
   "cell_type": "code",
   "execution_count": 0,
   "metadata": {
    "application/vnd.databricks.v1+cell": {
     "cellMetadata": {
      "byteLimit": 2048000,
      "rowLimit": 10000
     },
     "inputWidgets": {},
     "nuid": "d660fa9d-452e-4803-ba7a-250222a956df",
     "showTitle": false,
     "title": ""
    }
   },
   "outputs": [
    {
     "output_type": "stream",
     "name": "stdout",
     "output_type": "stream",
     "text": [
      "+---+----------+\n|Age|TotalBonus|\n+---+----------+\n| 34|    1200.0|\n| 45|     600.0|\n+---+----------+\n\n"
     ]
    }
   ],
   "source": [
    "# Дія / Action\n",
    "df_total.show()"
   ]
  },
  {
   "cell_type": "markdown",
   "metadata": {
    "application/vnd.databricks.v1+cell": {
     "cellMetadata": {
      "byteLimit": 2048000,
      "rowLimit": 10000
     },
     "inputWidgets": {},
     "nuid": "3d411261-1872-47aa-a33f-88a60a1590c4",
     "showTitle": false,
     "title": ""
    }
   },
   "source": [
    "#### Аналогічний код в Python Pandas"
   ]
  },
  {
   "cell_type": "code",
   "execution_count": 0,
   "metadata": {
    "application/vnd.databricks.v1+cell": {
     "cellMetadata": {
      "byteLimit": 2048000,
      "rowLimit": 10000
     },
     "inputWidgets": {},
     "nuid": "e9770b4d-b801-4f2b-bbe9-03db3e0e7746",
     "showTitle": false,
     "title": ""
    }
   },
   "outputs": [
    {
     "output_type": "display_data",
     "data": {
      "application/vnd.databricks.v1+bamboolib_hint": "{\"pd.DataFrames\": [], \"version\": \"0.0.1\"}",
      "text/plain": []
     },
     "metadata": {},
     "output_type": "display_data"
    }
   ],
   "source": [
    "import pandas as pd\n",
    "\n",
    "# Load sample data\n",
    "data = [(\"Alice\", 34, 5000), (\"Bob\", 45, 6000), (\"Cathy\", 29, 4000), (\"David\", 34, 7000)]\n",
    "columns = [\"Name\", \"Age\", \"Salary\"]\n",
    "\n",
    "df = pd.DataFrame(data, columns=columns)\n",
    "\n",
    "# \"Transformations\"\n",
    "df_filtered = df[df[\"Age\"] > 30]\n",
    "df_with_bonus = df_filtered.copy()\n",
    "df_with_bonus[\"Bonus\"] = df_with_bonus[\"Salary\"] * 0.10\n",
    "df_total = df_with_bonus.groupby(\"Age\")[\"Bonus\"].sum().reset_index(name=\"TotalBonus\")"
   ]
  },
  {
   "cell_type": "code",
   "execution_count": 0,
   "metadata": {
    "application/vnd.databricks.v1+cell": {
     "cellMetadata": {
      "byteLimit": 2048000,
      "rowLimit": 10000
     },
     "inputWidgets": {},
     "nuid": "da9a10a8-4ea8-44b7-a234-ec11c318600f",
     "showTitle": false,
     "title": ""
    }
   },
   "outputs": [
    {
     "output_type": "display_data",
     "data": {
      "text/html": [
       "<div>\n",
       "<style scoped>\n",
       "    .dataframe tbody tr th:only-of-type {\n",
       "        vertical-align: middle;\n",
       "    }\n",
       "\n",
       "    .dataframe tbody tr th {\n",
       "        vertical-align: top;\n",
       "    }\n",
       "\n",
       "    .dataframe thead th {\n",
       "        text-align: right;\n",
       "    }\n",
       "</style>\n",
       "<table border=\"1\" class=\"dataframe\">\n",
       "  <thead>\n",
       "    <tr style=\"text-align: right;\">\n",
       "      <th></th>\n",
       "      <th>Age</th>\n",
       "      <th>TotalBonus</th>\n",
       "    </tr>\n",
       "  </thead>\n",
       "  <tbody>\n",
       "    <tr>\n",
       "      <th>0</th>\n",
       "      <td>34</td>\n",
       "      <td>1200.0</td>\n",
       "    </tr>\n",
       "    <tr>\n",
       "      <th>1</th>\n",
       "      <td>45</td>\n",
       "      <td>600.0</td>\n",
       "    </tr>\n",
       "  </tbody>\n",
       "</table>\n",
       "</div>"
      ]
     },
     "metadata": {
      "application/vnd.databricks.v1+output": {
       "addedWidgets": {},
       "arguments": {},
       "data": "<div>\n<style scoped>\n    .dataframe tbody tr th:only-of-type {\n        vertical-align: middle;\n    }\n\n    .dataframe tbody tr th {\n        vertical-align: top;\n    }\n\n    .dataframe thead th {\n        text-align: right;\n    }\n</style>\n<table border=\"1\" class=\"dataframe\">\n  <thead>\n    <tr style=\"text-align: right;\">\n      <th></th>\n      <th>Age</th>\n      <th>TotalBonus</th>\n    </tr>\n  </thead>\n  <tbody>\n    <tr>\n      <th>0</th>\n      <td>34</td>\n      <td>1200.0</td>\n    </tr>\n    <tr>\n      <th>1</th>\n      <td>45</td>\n      <td>600.0</td>\n    </tr>\n  </tbody>\n</table>\n</div>",
       "datasetInfos": [],
       "metadata": {},
       "removedWidgets": [],
       "textData": null,
       "type": "htmlSandbox"
      }
     },
     "output_type": "display_data"
    }
   ],
   "source": [
    "# \"Action\"\n",
    "df_total"
   ]
  },
  {
   "cell_type": "markdown",
   "metadata": {
    "application/vnd.databricks.v1+cell": {
     "cellMetadata": {
      "byteLimit": 2048000,
      "rowLimit": 10000
     },
     "inputWidgets": {},
     "nuid": "276769d0-07e5-4f70-88cf-0c9fb445b8cf",
     "showTitle": false,
     "title": ""
    }
   },
   "source": [
    "#### Завантаження датасету"
   ]
  },
  {
   "cell_type": "code",
   "execution_count": 0,
   "metadata": {
    "application/vnd.databricks.v1+cell": {
     "cellMetadata": {
      "byteLimit": 2048000,
      "rowLimit": 10000
     },
     "inputWidgets": {},
     "nuid": "f31f8b98-0767-4b79-b9b6-c13e88367aee",
     "showTitle": false,
     "title": ""
    }
   },
   "outputs": [],
   "source": [
    "df = spark.read.parquet(\"dbfs:/FileStore/tables/tracks.parquet\")"
   ]
  },
  {
   "cell_type": "markdown",
   "metadata": {
    "application/vnd.databricks.v1+cell": {
     "cellMetadata": {
      "byteLimit": 2048000,
      "rowLimit": 10000
     },
     "inputWidgets": {},
     "nuid": "d50cd673-b41c-4425-8424-6e2b8060d786",
     "showTitle": false,
     "title": ""
    }
   },
   "source": [
    "#### Знайомство з функцією <code>display()</code>"
   ]
  },
  {
   "cell_type": "code",
   "execution_count": 0,
   "metadata": {
    "application/vnd.databricks.v1+cell": {
     "cellMetadata": {
      "byteLimit": 2048000,
      "rowLimit": 10000
     },
     "inputWidgets": {},
     "nuid": "b2ab27d4-9bcc-4f9a-8b1c-8df94aa2c521",
     "showTitle": false,
     "title": ""
    }
   },
   "outputs": [],
   "source": [
    "# Отримуємо загальні відомості про датасет:\n",
    "display(df)\n",
    "# Використовуємо додатковий функціонал для отримання інформації про розподіл характеристик датасету"
   ]
  },
  {
   "cell_type": "markdown",
   "metadata": {
    "application/vnd.databricks.v1+cell": {
     "cellMetadata": {
      "byteLimit": 2048000,
      "rowLimit": 10000
     },
     "inputWidgets": {},
     "nuid": "79ac54d8-cff1-462c-be06-5db68a791b45",
     "showTitle": false,
     "title": ""
    }
   },
   "source": [
    "#### Задача № 1. Обчислити кількість треків у даному датасеті та кількість унікальних виконавців. Результат зобразити в діаграмі та нанести на дашборд."
   ]
  },
  {
   "cell_type": "code",
   "execution_count": 0,
   "metadata": {
    "application/vnd.databricks.v1+cell": {
     "cellMetadata": {
      "byteLimit": 2048000,
      "rowLimit": 10000
     },
     "inputWidgets": {},
     "nuid": "335fee01-5f6e-4be4-a29e-5eb072a26bac",
     "showTitle": false,
     "title": ""
    }
   },
   "outputs": [],
   "source": [
    "from pyspark.sql.functions import split, explode, col, trim, regexp_replace\n",
    "\n",
    "# Обчислення загальної кількості треків\n",
    "total_tracks = df.count()\n",
    "\n",
    "# Розділити колонку 'artists' на окремі виконавці та створити нову колонку\n",
    "df_artists = df.withColumn(\"artist\", explode(split(col(\"artists\"), \",\")))\n",
    "\n",
    "# Видалити зайві символи (квадратні дужки, лапки та пробіли)\n",
    "df_artists = df_artists.withColumn(\"artist\", trim(regexp_replace(col(\"artist\"), \"[\\\\[\\\\]']\", \"\")))\n",
    "\n",
    "# Обчислення кількості унікальних виконавців\n",
    "unique_artists = df_artists.select(\"artist\").distinct().count()"
   ]
  },
  {
   "cell_type": "code",
   "execution_count": 0,
   "metadata": {
    "application/vnd.databricks.v1+cell": {
     "cellMetadata": {
      "byteLimit": 2048000,
      "rowLimit": 10000
     },
     "inputWidgets": {},
     "nuid": "8eebcdf6-5d75-4cec-a92b-618a357ad3ce",
     "showTitle": false,
     "title": ""
    }
   },
   "outputs": [
    {
     "output_type": "display_data",
     "data": {
      "text/html": [
       "<style scoped>\n",
       "  .table-result-container {\n",
       "    max-height: 300px;\n",
       "    overflow: auto;\n",
       "  }\n",
       "  table, th, td {\n",
       "    border: 1px solid black;\n",
       "    border-collapse: collapse;\n",
       "  }\n",
       "  th, td {\n",
       "    padding: 5px;\n",
       "  }\n",
       "  th {\n",
       "    text-align: left;\n",
       "  }\n",
       "</style><div class='table-result-container'><table class='table-result'><thead style='background-color: white'><tr><th>Total_number_of_tracks</th><th>Total_number_of_artists</th></tr></thead><tbody><tr><td>586672</td><td>96431</td></tr></tbody></table></div>"
      ]
     },
     "metadata": {
      "application/vnd.databricks.v1+output": {
       "addedWidgets": {},
       "aggData": [],
       "aggError": "",
       "aggOverflow": false,
       "aggSchema": [],
       "aggSeriesLimitReached": false,
       "aggType": "",
       "arguments": {},
       "columnCustomDisplayInfos": {},
       "data": [
        [
         586672,
         96431
        ]
       ],
       "datasetInfos": [],
       "dbfsResultPath": null,
       "isJsonSchema": true,
       "metadata": {},
       "overflow": false,
       "plotOptions": {
        "customPlotOptions": {},
        "displayType": "table",
        "pivotAggregation": null,
        "pivotColumns": null,
        "xColumns": null,
        "yColumns": null
       },
       "removedWidgets": [],
       "schema": [
        {
         "metadata": "{}",
         "name": "Total_number_of_tracks",
         "type": "\"long\""
        },
        {
         "metadata": "{}",
         "name": "Total_number_of_artists",
         "type": "\"long\""
        }
       ],
       "type": "table"
      }
     },
     "output_type": "display_data"
    },
    {
     "output_type": "display_data",
     "data": {
      "text/plain": [
       "Databricks visualization. Run in Databricks to view."
      ]
     },
     "metadata": {
      "application/vnd.databricks.v1.subcommand+json": {
       "baseErrorDetails": null,
       "bindings": {},
       "collapsed": false,
       "command": "# Дані для DataFrame\ndata = [[total_tracks, unique_artists]]\ncolumns = [\"Total_number_of_tracks\", \"Total_number_of_artists\"]\n# Створення DataFrame зі списку значень\nstats_to_display = spark.createDataFrame(data, columns)\ndisplay(stats_to_display)",
       "commandTitle": "Visualization 1",
       "commandType": "auto",
       "commandVersion": 0,
       "commentThread": [],
       "commentsVisible": false,
       "contentSha256Hex": null,
       "customPlotOptions": {
        "redashChart": [
         {
          "key": "type",
          "value": "TABLE"
         },
         {
          "key": "options",
          "value": {
           "columns": [
            {
             "alignContent": "right",
             "allowHTML": false,
             "allowSearch": false,
             "booleanValues": [
              "false",
              "true"
             ],
             "displayAs": "number",
             "highlightLinks": false,
             "imageHeight": "",
             "imageTitleTemplate": "{{ @ }}",
             "imageUrlTemplate": "{{ @ }}",
             "imageWidth": "",
             "linkOpenInNewTab": true,
             "linkTextTemplate": "{{ @ }}",
             "linkTitleTemplate": "{{ @ }}",
             "linkUrlTemplate": "{{ @ }}",
             "name": "Total_number_of_tracks",
             "numberFormat": "0",
             "order": 100000,
             "preserveWhitespace": false,
             "title": "Total_number_of_tracks",
             "type": "integer",
             "useMonospaceFont": false,
             "visible": true
            },
            {
             "alignContent": "right",
             "allowHTML": false,
             "allowSearch": false,
             "booleanValues": [
              "false",
              "true"
             ],
             "displayAs": "number",
             "highlightLinks": false,
             "imageHeight": "",
             "imageTitleTemplate": "{{ @ }}",
             "imageUrlTemplate": "{{ @ }}",
             "imageWidth": "",
             "linkOpenInNewTab": true,
             "linkTextTemplate": "{{ @ }}",
             "linkTitleTemplate": "{{ @ }}",
             "linkUrlTemplate": "{{ @ }}",
             "name": "Total_number_of_artists",
             "numberFormat": "0",
             "order": 100001,
             "preserveWhitespace": false,
             "title": "Total_number_of_artists",
             "type": "integer",
             "useMonospaceFont": false,
             "visible": true
            }
           ],
           "condensed": true,
           "itemsPerPage": 25,
           "paginationSize": "default",
           "version": 2,
           "withRowNumber": false
          }
         }
        ]
       },
       "datasetPreviewNameToCmdIdMap": {},
       "diffDeletes": [],
       "diffInserts": [],
       "displayType": "redashChart",
       "error": null,
       "errorDetails": null,
       "errorSummary": null,
       "errorTraceType": null,
       "finishTime": 0,
       "globalVars": {},
       "guid": "",
       "height": "auto",
       "hideCommandCode": false,
       "hideCommandResult": false,
       "iPythonMetadata": null,
       "inputWidgets": {},
       "isLockedInExamMode": false,
       "latestUser": "a user",
       "latestUserId": null,
       "listResultMetadata": null,
       "metadata": {
        "byteLimit": 2048000,
        "rowLimit": 10000
       },
       "nuid": "02b18bb3-2932-42c5-8ab6-2888607b5b36",
       "origId": 0,
       "parentHierarchy": [],
       "pivotAggregation": null,
       "pivotColumns": null,
       "position": 5.1572265625,
       "resultDbfsErrorMessage": null,
       "resultDbfsStatus": "INLINED_IN_TREE",
       "results": null,
       "showCommandTitle": false,
       "startTime": 0,
       "state": "finished",
       "streamStates": {},
       "subcommandOptions": {},
       "submitTime": 0,
       "subtype": "tableResultSubCmd.visualization",
       "tableResultIndex": 0,
       "tableResultSettingsMap": null,
       "useConsistentColors": false,
       "version": "CommandV1",
       "width": "auto",
       "workflows": [],
       "xColumns": null,
       "yColumns": null
      }
     },
     "output_type": "display_data"
    },
    {
     "output_type": "display_data",
     "data": {
      "text/plain": [
       "Databricks visualization. Run in Databricks to view."
      ]
     },
     "metadata": {
      "application/vnd.databricks.v1.subcommand+json": {
       "baseErrorDetails": null,
       "bindings": {},
       "collapsed": false,
       "command": "# Дані для DataFrame\ndata = [[total_tracks, unique_artists]]\ncolumns = [\"Total_number_of_tracks\", \"Total_number_of_artists\"]\n# Створення DataFrame зі списку значень\nstats_to_display = spark.createDataFrame(data, columns)\ndisplay(stats_to_display)",
       "commandTitle": "Visualization 2",
       "commandType": "auto",
       "commandVersion": 0,
       "commentThread": [],
       "commentsVisible": false,
       "contentSha256Hex": null,
       "customPlotOptions": {
        "redashChart": [
         {
          "key": "type",
          "value": "COUNTER"
         },
         {
          "key": "options",
          "value": {
           "counterColName": "Total_number_of_tracks",
           "counterLabel": "Загальна кількість треків у датасеті",
           "rowNumber": 1,
           "stringDecChar": ".",
           "stringDecimal": 0,
           "stringThouSep": ",",
           "targetRowNumber": 1,
           "tooltipFormat": "0,0.000"
          }
         }
        ]
       },
       "datasetPreviewNameToCmdIdMap": {},
       "diffDeletes": [],
       "diffInserts": [],
       "displayType": "redashChart",
       "error": null,
       "errorDetails": null,
       "errorSummary": null,
       "errorTraceType": null,
       "finishTime": 0,
       "globalVars": {},
       "guid": "",
       "height": "auto",
       "hideCommandCode": false,
       "hideCommandResult": false,
       "iPythonMetadata": null,
       "inputWidgets": {},
       "isLockedInExamMode": false,
       "latestUser": "a user",
       "latestUserId": null,
       "listResultMetadata": null,
       "metadata": {
        "byteLimit": 2048000,
        "rowLimit": 10000
       },
       "nuid": "92bf272a-e310-47c2-9695-d2386dd00c31",
       "origId": 0,
       "parentHierarchy": [],
       "pivotAggregation": null,
       "pivotColumns": null,
       "position": 6.1572265625,
       "resultDbfsErrorMessage": null,
       "resultDbfsStatus": "INLINED_IN_TREE",
       "results": null,
       "showCommandTitle": false,
       "startTime": 0,
       "state": "finished",
       "streamStates": {},
       "subcommandOptions": {},
       "submitTime": 0,
       "subtype": "tableResultSubCmd.visualization",
       "tableResultIndex": 0,
       "tableResultSettingsMap": null,
       "useConsistentColors": false,
       "version": "CommandV1",
       "width": "auto",
       "workflows": [],
       "xColumns": null,
       "yColumns": null
      }
     },
     "output_type": "display_data"
    },
    {
     "output_type": "display_data",
     "data": {
      "text/plain": [
       "Databricks visualization. Run in Databricks to view."
      ]
     },
     "metadata": {
      "application/vnd.databricks.v1.subcommand+json": {
       "baseErrorDetails": null,
       "bindings": {},
       "collapsed": false,
       "command": "# Дані для DataFrame\ndata = [[total_tracks, unique_artists]]\ncolumns = [\"Total_number_of_tracks\", \"Total_number_of_artists\"]\n# Створення DataFrame зі списку значень\nstats_to_display = spark.createDataFrame(data, columns)\ndisplay(stats_to_display)",
       "commandTitle": "Visualization 3",
       "commandType": "auto",
       "commandVersion": 0,
       "commentThread": [],
       "commentsVisible": false,
       "contentSha256Hex": null,
       "customPlotOptions": {
        "redashChart": [
         {
          "key": "type",
          "value": "COUNTER"
         },
         {
          "key": "options",
          "value": {
           "counterColName": "Total_number_of_artists",
           "counterLabel": "Загальна кількість унікальних виконавців",
           "rowNumber": 1,
           "stringDecChar": ".",
           "stringDecimal": 0,
           "stringThouSep": ",",
           "targetRowNumber": 1,
           "tooltipFormat": "0,0.000"
          }
         }
        ]
       },
       "datasetPreviewNameToCmdIdMap": {},
       "diffDeletes": [],
       "diffInserts": [],
       "displayType": "redashChart",
       "error": null,
       "errorDetails": null,
       "errorSummary": null,
       "errorTraceType": null,
       "finishTime": 0,
       "globalVars": {},
       "guid": "",
       "height": "auto",
       "hideCommandCode": false,
       "hideCommandResult": false,
       "iPythonMetadata": null,
       "inputWidgets": {},
       "isLockedInExamMode": false,
       "latestUser": "a user",
       "latestUserId": null,
       "listResultMetadata": null,
       "metadata": {
        "byteLimit": 2048000,
        "rowLimit": 10000
       },
       "nuid": "588d076a-cf39-4ce9-b451-cc2080dfad4c",
       "origId": 0,
       "parentHierarchy": [],
       "pivotAggregation": null,
       "pivotColumns": null,
       "position": 7.1572265625,
       "resultDbfsErrorMessage": null,
       "resultDbfsStatus": "INLINED_IN_TREE",
       "results": null,
       "showCommandTitle": false,
       "startTime": 0,
       "state": "finished",
       "streamStates": {},
       "subcommandOptions": {},
       "submitTime": 0,
       "subtype": "tableResultSubCmd.visualization",
       "tableResultIndex": 0,
       "tableResultSettingsMap": null,
       "useConsistentColors": false,
       "version": "CommandV1",
       "width": "auto",
       "workflows": [],
       "xColumns": null,
       "yColumns": null
      }
     },
     "output_type": "display_data"
    }
   ],
   "source": [
    "# Дані для DataFrame\n",
    "data = [[total_tracks, unique_artists]]\n",
    "columns = [\"Total_number_of_tracks\", \"Total_number_of_artists\"]\n",
    "# Створення DataFrame зі списку значень\n",
    "stats_to_display = spark.createDataFrame(data, columns)\n",
    "display(stats_to_display)"
   ]
  },
  {
   "cell_type": "markdown",
   "metadata": {
    "application/vnd.databricks.v1+cell": {
     "cellMetadata": {
      "byteLimit": 2048000,
      "rowLimit": 10000
     },
     "inputWidgets": {},
     "nuid": "12821a4e-af44-41f6-97f3-091790b876e7",
     "showTitle": false,
     "title": ""
    }
   },
   "source": [
    "#### Задача № 2. Обчислити середні значення характеристик треків. З'ясувати чи середні значення популярних треків відрізняються від загальних середніх."
   ]
  },
  {
   "cell_type": "code",
   "execution_count": 0,
   "metadata": {
    "application/vnd.databricks.v1+cell": {
     "cellMetadata": {
      "byteLimit": 2048000,
      "rowLimit": 10000
     },
     "inputWidgets": {},
     "nuid": "dad19029-fea2-4bf4-baf7-3c3bd0fa3f4d",
     "showTitle": false,
     "title": ""
    }
   },
   "outputs": [],
   "source": [
    "from pyspark.sql.functions import avg, col, lit\n",
    "\n",
    "# Список колонок для агрегації\n",
    "columns_to_aggregate = [\"danceability\", \"energy\", \"loudness\", \"speechiness\", \"acousticness\", \n",
    "                        \"instrumentalness\", \"liveness\", \"valence\", \"tempo\", \"popularity\"]\n",
    "\n",
    "# Агрегація середніх значень характеристик для всіх треків\n",
    "overall_aggregations = [avg(col).alias(f\"avg_{col}\") for col in columns_to_aggregate]\n",
    "overall_stats = df.agg(*overall_aggregations)\n",
    "overall_stats = overall_stats.withColumn(\"category\", lit(\"Overall\"))"
   ]
  },
  {
   "cell_type": "code",
   "execution_count": 0,
   "metadata": {
    "application/vnd.databricks.v1+cell": {
     "cellMetadata": {
      "byteLimit": 2048000,
      "rowLimit": 10000
     },
     "inputWidgets": {},
     "nuid": "4a1c5b4a-6ac1-46d6-8d3e-ab80051e8774",
     "showTitle": false,
     "title": ""
    }
   },
   "outputs": [
    {
     "output_type": "display_data",
     "data": {
      "text/html": [
       "<style scoped>\n",
       "  .table-result-container {\n",
       "    max-height: 300px;\n",
       "    overflow: auto;\n",
       "  }\n",
       "  table, th, td {\n",
       "    border: 1px solid black;\n",
       "    border-collapse: collapse;\n",
       "  }\n",
       "  th, td {\n",
       "    padding: 5px;\n",
       "  }\n",
       "  th {\n",
       "    text-align: left;\n",
       "  }\n",
       "</style><div class='table-result-container'><table class='table-result'><thead style='background-color: white'><tr><th>avg_danceability</th><th>avg_energy</th><th>avg_loudness</th><th>avg_speechiness</th><th>avg_acousticness</th><th>avg_instrumentalness</th><th>avg_liveness</th><th>avg_valence</th><th>avg_tempo</th><th>avg_popularity</th><th>category</th></tr></thead><tbody><tr><td>0.5635938180107591</td><td>0.5420359919116704</td><td>-10.206066809051883</td><td>0.10486354180871624</td><td>0.44986272444745107</td><td>0.11345078218816747</td><td>0.21393501687483635</td><td>0.5522924730805054</td><td>118.46485662687292</td><td>27.570052772247525</td><td>Overall</td></tr></tbody></table></div>"
      ]
     },
     "metadata": {
      "application/vnd.databricks.v1+output": {
       "addedWidgets": {},
       "aggData": [],
       "aggError": "",
       "aggOverflow": false,
       "aggSchema": [],
       "aggSeriesLimitReached": false,
       "aggType": "",
       "arguments": {},
       "columnCustomDisplayInfos": {},
       "data": [
        [
         0.5635938180107591,
         0.5420359919116704,
         -10.206066809051883,
         0.10486354180871624,
         0.44986272444745107,
         0.11345078218816747,
         0.21393501687483635,
         0.5522924730805054,
         118.46485662687292,
         27.570052772247525,
         "Overall"
        ]
       ],
       "datasetInfos": [],
       "dbfsResultPath": null,
       "isJsonSchema": true,
       "metadata": {},
       "overflow": false,
       "plotOptions": {
        "customPlotOptions": {},
        "displayType": "table",
        "pivotAggregation": null,
        "pivotColumns": null,
        "xColumns": null,
        "yColumns": null
       },
       "removedWidgets": [],
       "schema": [
        {
         "metadata": "{}",
         "name": "avg_danceability",
         "type": "\"double\""
        },
        {
         "metadata": "{}",
         "name": "avg_energy",
         "type": "\"double\""
        },
        {
         "metadata": "{}",
         "name": "avg_loudness",
         "type": "\"double\""
        },
        {
         "metadata": "{}",
         "name": "avg_speechiness",
         "type": "\"double\""
        },
        {
         "metadata": "{}",
         "name": "avg_acousticness",
         "type": "\"double\""
        },
        {
         "metadata": "{}",
         "name": "avg_instrumentalness",
         "type": "\"double\""
        },
        {
         "metadata": "{}",
         "name": "avg_liveness",
         "type": "\"double\""
        },
        {
         "metadata": "{}",
         "name": "avg_valence",
         "type": "\"double\""
        },
        {
         "metadata": "{}",
         "name": "avg_tempo",
         "type": "\"double\""
        },
        {
         "metadata": "{}",
         "name": "avg_popularity",
         "type": "\"double\""
        },
        {
         "metadata": "{}",
         "name": "category",
         "type": "\"string\""
        }
       ],
       "type": "table"
      }
     },
     "output_type": "display_data"
    }
   ],
   "source": [
    "display(overall_stats)"
   ]
  },
  {
   "cell_type": "code",
   "execution_count": 0,
   "metadata": {
    "application/vnd.databricks.v1+cell": {
     "cellMetadata": {
      "byteLimit": 2048000,
      "rowLimit": 10000
     },
     "inputWidgets": {},
     "nuid": "63fc64c9-9b0c-4b44-aa76-41619acc2bd7",
     "showTitle": false,
     "title": ""
    }
   },
   "outputs": [],
   "source": [
    "# Визначення популярних треків (припустимо, популярність вище 80)\n",
    "popular_threshold = 80\n",
    "popular_tracks = df.filter(col(\"popularity\") > popular_threshold)\n",
    "\n",
    "# Агрегація середніх значень характеристик для популярних треків\n",
    "popular_aggregations = [avg(col).alias(f\"avg_{col}\") for col in columns_to_aggregate]\n",
    "popular_stats = popular_tracks.agg(*popular_aggregations)\n",
    "popular_stats = popular_stats.withColumn(\"category\", lit(\"Popular\"))"
   ]
  },
  {
   "cell_type": "code",
   "execution_count": 0,
   "metadata": {
    "application/vnd.databricks.v1+cell": {
     "cellMetadata": {
      "byteLimit": 2048000,
      "rowLimit": 10000
     },
     "inputWidgets": {},
     "nuid": "78755039-f11c-4333-be9d-5e69d122eb7e",
     "showTitle": false,
     "title": ""
    }
   },
   "outputs": [
    {
     "output_type": "stream",
     "name": "stdout",
     "output_type": "stream",
     "text": [
      "+------------------+------------------+-------------------+-------------------+-------------------+--------------------+-------------------+------------------+------------------+------------------+--------+\n|  avg_danceability|        avg_energy|       avg_loudness|    avg_speechiness|   avg_acousticness|avg_instrumentalness|       avg_liveness|       avg_valence|         avg_tempo|    avg_popularity|category|\n+------------------+------------------+-------------------+-------------------+-------------------+--------------------+-------------------+------------------+------------------+------------------+--------+\n|0.5635938180107591|0.5420359919116704|-10.206066809051883|0.10486354180871624|0.44986272444745107| 0.11345078218816747|0.21393501687483635|0.5522924730805054|118.46485662687292|27.570052772247525| Overall|\n|0.6738817934782607|0.6387163315217393| -6.347464673913044| 0.1011036684782609| 0.2403651542119562|0.011630222214673908|  0.171176222826087|0.5154885869565221| 121.1331576086956| 83.98233695652173| Popular|\n+------------------+------------------+-------------------+-------------------+-------------------+--------------------+-------------------+------------------+------------------+------------------+--------+\n\n"
     ]
    }
   ],
   "source": [
    "# Об'єднання результатів у єдиний DataFrame для порівняння\n",
    "comparison_df = overall_stats.union(popular_stats)\n",
    "# Відображення результату\n",
    "comparison_df.show()"
   ]
  },
  {
   "cell_type": "code",
   "execution_count": 0,
   "metadata": {
    "application/vnd.databricks.v1+cell": {
     "cellMetadata": {
      "byteLimit": 2048000,
      "rowLimit": 10000
     },
     "inputWidgets": {},
     "nuid": "1573ec9e-317d-49ce-81f4-9cc96e82a9c9",
     "showTitle": false,
     "title": ""
    }
   },
   "outputs": [
    {
     "output_type": "display_data",
     "data": {
      "text/html": [
       "<style scoped>\n",
       "  .table-result-container {\n",
       "    max-height: 300px;\n",
       "    overflow: auto;\n",
       "  }\n",
       "  table, th, td {\n",
       "    border: 1px solid black;\n",
       "    border-collapse: collapse;\n",
       "  }\n",
       "  th, td {\n",
       "    padding: 5px;\n",
       "  }\n",
       "  th {\n",
       "    text-align: left;\n",
       "  }\n",
       "</style><div class='table-result-container'><table class='table-result'><thead style='background-color: white'><tr><th>avg_danceability</th><th>avg_energy</th><th>avg_loudness</th><th>avg_speechiness</th><th>avg_acousticness</th><th>avg_instrumentalness</th><th>avg_liveness</th><th>avg_valence</th><th>avg_tempo</th><th>avg_popularity</th><th>category</th></tr></thead><tbody><tr><td>0.5635938180107591</td><td>0.5420359919116704</td><td>-10.206066809051883</td><td>0.10486354180871624</td><td>0.44986272444745107</td><td>0.11345078218816747</td><td>0.21393501687483635</td><td>0.5522924730805054</td><td>118.46485662687292</td><td>27.570052772247525</td><td>Overall</td></tr><tr><td>0.6738817934782607</td><td>0.6387163315217393</td><td>-6.347464673913044</td><td>0.1011036684782609</td><td>0.2403651542119562</td><td>0.011630222214673908</td><td>0.171176222826087</td><td>0.5154885869565221</td><td>121.1331576086956</td><td>83.98233695652173</td><td>Popular</td></tr></tbody></table></div>"
      ]
     },
     "metadata": {
      "application/vnd.databricks.v1+output": {
       "addedWidgets": {},
       "aggData": [],
       "aggError": "",
       "aggOverflow": false,
       "aggSchema": [],
       "aggSeriesLimitReached": false,
       "aggType": "",
       "arguments": {},
       "columnCustomDisplayInfos": {},
       "data": [
        [
         0.5635938180107591,
         0.5420359919116704,
         -10.206066809051883,
         0.10486354180871624,
         0.44986272444745107,
         0.11345078218816747,
         0.21393501687483635,
         0.5522924730805054,
         118.46485662687292,
         27.570052772247525,
         "Overall"
        ],
        [
         0.6738817934782607,
         0.6387163315217393,
         -6.347464673913044,
         0.1011036684782609,
         0.2403651542119562,
         0.011630222214673908,
         0.171176222826087,
         0.5154885869565221,
         121.1331576086956,
         83.98233695652173,
         "Popular"
        ]
       ],
       "datasetInfos": [],
       "dbfsResultPath": null,
       "isJsonSchema": true,
       "metadata": {},
       "overflow": false,
       "plotOptions": {
        "customPlotOptions": {},
        "displayType": "table",
        "pivotAggregation": null,
        "pivotColumns": null,
        "xColumns": null,
        "yColumns": null
       },
       "removedWidgets": [],
       "schema": [
        {
         "metadata": "{}",
         "name": "avg_danceability",
         "type": "\"double\""
        },
        {
         "metadata": "{}",
         "name": "avg_energy",
         "type": "\"double\""
        },
        {
         "metadata": "{}",
         "name": "avg_loudness",
         "type": "\"double\""
        },
        {
         "metadata": "{}",
         "name": "avg_speechiness",
         "type": "\"double\""
        },
        {
         "metadata": "{}",
         "name": "avg_acousticness",
         "type": "\"double\""
        },
        {
         "metadata": "{}",
         "name": "avg_instrumentalness",
         "type": "\"double\""
        },
        {
         "metadata": "{}",
         "name": "avg_liveness",
         "type": "\"double\""
        },
        {
         "metadata": "{}",
         "name": "avg_valence",
         "type": "\"double\""
        },
        {
         "metadata": "{}",
         "name": "avg_tempo",
         "type": "\"double\""
        },
        {
         "metadata": "{}",
         "name": "avg_popularity",
         "type": "\"double\""
        },
        {
         "metadata": "{}",
         "name": "category",
         "type": "\"string\""
        }
       ],
       "type": "table"
      }
     },
     "output_type": "display_data"
    },
    {
     "output_type": "display_data",
     "data": {
      "text/plain": [
       "Databricks visualization. Run in Databricks to view."
      ]
     },
     "metadata": {
      "application/vnd.databricks.v1.subcommand+json": {
       "baseErrorDetails": null,
       "bindings": {},
       "collapsed": false,
       "command": "%python\n__backend_agg_display_orig = display\n__backend_agg_dfs = []\ndef __backend_agg_display_new(df):\n    __backend_agg_df_modules = [\"pandas.core.frame\", \"databricks.koalas.frame\", \"pyspark.sql.dataframe\", \"pyspark.pandas.frame\", \"pyspark.sql.connect.dataframe\"]\n    if (type(df).__module__ in __backend_agg_df_modules and type(df).__name__ == 'DataFrame') or isinstance(df, list):\n        __backend_agg_dfs.append(df)\n\ndisplay = __backend_agg_display_new\n\ndef __backend_agg_user_code_fn():\n    import base64\n    exec(base64.standard_b64decode(\"ZGlzcGxheShjb21wYXJpc29uX2RmKQ==\").decode())\n\ntry:\n    # run user code\n    __backend_agg_user_code_fn()\n\n    #reset display function\n    display = __backend_agg_display_orig\n\n    if len(__backend_agg_dfs) > 0:\n        # create a temp view\n        if type(__backend_agg_dfs[0]).__module__ == \"databricks.koalas.frame\":\n            # koalas dataframe\n            __backend_agg_dfs[0].to_spark().createOrReplaceTempView(\"DatabricksView3035931\")\n        elif type(__backend_agg_dfs[0]).__module__ == \"pandas.core.frame\" or isinstance(__backend_agg_dfs[0], list):\n            # pandas dataframe\n            spark.createDataFrame(__backend_agg_dfs[0]).createOrReplaceTempView(\"DatabricksView3035931\")\n        else:\n            __backend_agg_dfs[0].createOrReplaceTempView(\"DatabricksView3035931\")\n        #run backend agg\n        display(spark.sql(\"\"\"WITH q AS (select * from DatabricksView3035931) SELECT `category`,SUM(`avg_loudness`) `column_f76dac4732` FROM q GROUP BY `category`\"\"\"))\n    else:\n        displayHTML(\"dataframe no longer exists. If you're using dataframe.display(), use display(dataframe) instead.\")\n\n\nfinally:\n    spark.sql(\"drop view if exists DatabricksView3035931\")\n    display = __backend_agg_display_orig\n    del __backend_agg_display_new\n    del __backend_agg_display_orig\n    del __backend_agg_dfs\n    del __backend_agg_user_code_fn\n\n",
       "commandTitle": "Visualization 1",
       "commandType": "auto",
       "commandVersion": 0,
       "commentThread": [],
       "commentsVisible": false,
       "contentSha256Hex": null,
       "customPlotOptions": {
        "redashChart": [
         {
          "key": "type",
          "value": "CHART"
         },
         {
          "key": "options",
          "value": {
           "alignYAxesAtZero": true,
           "coefficient": 1,
           "columnConfigurationMap": {
            "x": {
             "column": "category",
             "id": "column_f76dac4730"
            },
            "y": [
             {
              "column": "avg_loudness",
              "id": "column_f76dac4732",
              "transform": "SUM"
             }
            ]
           },
           "dateTimeFormat": "DD/MM/YYYY HH:mm",
           "direction": {
            "type": "counterclockwise"
           },
           "error_y": {
            "type": "data",
            "visible": true
           },
           "globalSeriesType": "column",
           "isAggregationOn": true,
           "legend": {
            "traceorder": "normal"
           },
           "missingValuesAsZero": true,
           "numberFormat": "0,0.[00000]",
           "percentFormat": "0[.]00%",
           "series": {
            "error_y": {
             "type": "data",
             "visible": true
            },
            "stacking": null
           },
           "seriesOptions": {
            "column_f76dac4732": {
             "type": "column",
             "yAxis": 0
            }
           },
           "showDataLabels": false,
           "sizemode": "diameter",
           "sortX": true,
           "sortY": true,
           "swappedAxes": false,
           "textFormat": "",
           "useAggregationsUi": true,
           "valuesOptions": {},
           "version": 2,
           "xAxis": {
            "labels": {
             "enabled": true
            },
            "type": "-"
           },
           "yAxis": [
            {
             "type": "-"
            },
            {
             "opposite": true,
             "type": "-"
            }
           ]
          }
         }
        ]
       },
       "datasetPreviewNameToCmdIdMap": {},
       "diffDeletes": [],
       "diffInserts": [],
       "displayType": "redashChart",
       "error": null,
       "errorDetails": null,
       "errorSummary": null,
       "errorTraceType": null,
       "finishTime": 0,
       "globalVars": {},
       "guid": "",
       "height": "auto",
       "hideCommandCode": false,
       "hideCommandResult": false,
       "iPythonMetadata": null,
       "inputWidgets": {},
       "isLockedInExamMode": false,
       "latestUser": "a user",
       "latestUserId": null,
       "listResultMetadata": null,
       "metadata": {
        "byteLimit": 2048000,
        "rowLimit": 10000
       },
       "nuid": "15cd903c-9ede-4a64-ac1d-a9bf9ca84f68",
       "origId": 0,
       "parentHierarchy": [],
       "pivotAggregation": null,
       "pivotColumns": null,
       "position": 5.162388392857142,
       "resultDbfsErrorMessage": null,
       "resultDbfsStatus": "INLINED_IN_TREE",
       "results": null,
       "showCommandTitle": false,
       "startTime": 0,
       "state": "finished",
       "streamStates": {},
       "subcommandOptions": {
        "queryPlan": {
         "groups": [
          {
           "column": "category",
           "type": "column"
          }
         ],
         "selects": [
          {
           "column": "category",
           "type": "column"
          },
          {
           "alias": "column_f76dac4732",
           "args": [
            {
             "column": "avg_loudness",
             "type": "column"
            }
           ],
           "function": "SUM",
           "type": "function"
          }
         ]
        }
       },
       "submitTime": 0,
       "subtype": "tableResultSubCmd.visualization",
       "tableResultIndex": 0,
       "tableResultSettingsMap": null,
       "useConsistentColors": false,
       "version": "CommandV1",
       "width": "auto",
       "workflows": [],
       "xColumns": null,
       "yColumns": null
      }
     },
     "output_type": "display_data"
    },
    {
     "output_type": "display_data",
     "data": {
      "text/plain": [
       "Databricks visualization. Run in Databricks to view."
      ]
     },
     "metadata": {
      "application/vnd.databricks.v1.subcommand+json": {
       "baseErrorDetails": null,
       "bindings": {},
       "collapsed": false,
       "command": "%python\n__backend_agg_display_orig = display\n__backend_agg_dfs = []\ndef __backend_agg_display_new(df):\n    __backend_agg_df_modules = [\"pandas.core.frame\", \"databricks.koalas.frame\", \"pyspark.sql.dataframe\", \"pyspark.pandas.frame\", \"pyspark.sql.connect.dataframe\"]\n    if (type(df).__module__ in __backend_agg_df_modules and type(df).__name__ == 'DataFrame') or isinstance(df, list):\n        __backend_agg_dfs.append(df)\n\ndisplay = __backend_agg_display_new\n\ndef __backend_agg_user_code_fn():\n    import base64\n    exec(base64.standard_b64decode(\"ZGlzcGxheShjb21wYXJpc29uX2RmKQ==\").decode())\n\ntry:\n    # run user code\n    __backend_agg_user_code_fn()\n\n    #reset display function\n    display = __backend_agg_display_orig\n\n    if len(__backend_agg_dfs) > 0:\n        # create a temp view\n        if type(__backend_agg_dfs[0]).__module__ == \"databricks.koalas.frame\":\n            # koalas dataframe\n            __backend_agg_dfs[0].to_spark().createOrReplaceTempView(\"DatabricksView28fcb71\")\n        elif type(__backend_agg_dfs[0]).__module__ == \"pandas.core.frame\" or isinstance(__backend_agg_dfs[0], list):\n            # pandas dataframe\n            spark.createDataFrame(__backend_agg_dfs[0]).createOrReplaceTempView(\"DatabricksView28fcb71\")\n        else:\n            __backend_agg_dfs[0].createOrReplaceTempView(\"DatabricksView28fcb71\")\n        #run backend agg\n        display(spark.sql(\"\"\"WITH q AS (select * from DatabricksView28fcb71) SELECT `category`,SUM(`avg_danceability`) `column_f76dac4740`,SUM(`avg_energy`) `column_f76dac4743`,SUM(`avg_speechiness`) `column_f76dac4749`,SUM(`avg_acousticness`) `column_f76dac4752`,SUM(`avg_instrumentalness`) `column_f76dac4755`,SUM(`avg_liveness`) `column_f76dac4758`,SUM(`avg_valence`) `column_f76dac4767` FROM q GROUP BY `category`\"\"\"))\n    else:\n        displayHTML(\"dataframe no longer exists. If you're using dataframe.display(), use display(dataframe) instead.\")\n\n\nfinally:\n    spark.sql(\"drop view if exists DatabricksView28fcb71\")\n    display = __backend_agg_display_orig\n    del __backend_agg_display_new\n    del __backend_agg_display_orig\n    del __backend_agg_dfs\n    del __backend_agg_user_code_fn\n\n",
       "commandTitle": "Середні значення характеристик",
       "commandType": "auto",
       "commandVersion": 0,
       "commentThread": [],
       "commentsVisible": false,
       "contentSha256Hex": null,
       "customPlotOptions": {
        "redashChart": [
         {
          "key": "type",
          "value": "CHART"
         },
         {
          "key": "options",
          "value": {
           "alignYAxesAtZero": true,
           "coefficient": 1,
           "columnConfigurationMap": {
            "x": {
             "column": "category",
             "id": "column_f76dac4734"
            },
            "y": [
             {
              "column": "avg_danceability",
              "id": "column_f76dac4740",
              "transform": "SUM"
             },
             {
              "column": "avg_energy",
              "id": "column_f76dac4743",
              "transform": "SUM"
             },
             {
              "column": "avg_speechiness",
              "id": "column_f76dac4749",
              "transform": "SUM"
             },
             {
              "column": "avg_acousticness",
              "id": "column_f76dac4752",
              "transform": "SUM"
             },
             {
              "column": "avg_instrumentalness",
              "id": "column_f76dac4755",
              "transform": "SUM"
             },
             {
              "column": "avg_liveness",
              "id": "column_f76dac4758",
              "transform": "SUM"
             },
             {
              "column": "avg_valence",
              "id": "column_f76dac4767",
              "transform": "SUM"
             }
            ]
           },
           "dateTimeFormat": "DD/MM/YYYY HH:mm",
           "direction": {
            "type": "counterclockwise"
           },
           "error_y": {
            "type": "data",
            "visible": true
           },
           "globalSeriesType": "column",
           "hideXAxis": false,
           "isAggregationOn": true,
           "legend": {
            "traceorder": "normal"
           },
           "missingValuesAsZero": true,
           "numberFormat": "0,0.[00000]",
           "percentFormat": "0[.]00%",
           "series": {
            "error_y": {
             "type": "data",
             "visible": true
            },
            "stacking": null
           },
           "seriesOptions": {
            "column_f76dac4740": {
             "name": "dancebility",
             "type": "column",
             "yAxis": 0,
             "zIndex": 0
            },
            "column_f76dac4743": {
             "name": "energy",
             "type": "column",
             "yAxis": 0,
             "zIndex": 1
            },
            "column_f76dac4746": {
             "type": "column",
             "yAxis": 0
            },
            "column_f76dac4749": {
             "name": "speechiness",
             "type": "column",
             "yAxis": 0,
             "zIndex": 2
            },
            "column_f76dac4752": {
             "name": "acoustiness",
             "type": "column",
             "yAxis": 0,
             "zIndex": 3
            },
            "column_f76dac4755": {
             "name": "instrumentalness",
             "type": "column",
             "yAxis": 0,
             "zIndex": 4
            },
            "column_f76dac4758": {
             "name": "liveness",
             "type": "column",
             "yAxis": 0,
             "zIndex": 5
            },
            "column_f76dac4761": {
             "name": "valence",
             "type": "column",
             "yAxis": 0
            },
            "column_f76dac4764": {
             "type": "column",
             "yAxis": 0
            },
            "column_f76dac4767": {
             "name": "valence",
             "type": "column",
             "yAxis": 0,
             "zIndex": 6
            }
           },
           "showDataLabels": false,
           "sizemode": "diameter",
           "sortX": true,
           "sortY": true,
           "swappedAxes": false,
           "textFormat": "",
           "useAggregationsUi": true,
           "valuesOptions": {},
           "version": 2,
           "xAxis": {
            "labels": {
             "enabled": true
            },
            "title": {
             "text": null
            },
            "type": "-"
           },
           "yAxis": [
            {
             "title": {
              "text": "Середні значення характеристик"
             },
             "type": "-"
            },
            {
             "opposite": true,
             "type": "-"
            }
           ]
          }
         }
        ]
       },
       "datasetPreviewNameToCmdIdMap": {},
       "diffDeletes": [],
       "diffInserts": [],
       "displayType": "redashChart",
       "error": null,
       "errorDetails": null,
       "errorSummary": null,
       "errorTraceType": null,
       "finishTime": 0,
       "globalVars": {},
       "guid": "",
       "height": "auto",
       "hideCommandCode": false,
       "hideCommandResult": false,
       "iPythonMetadata": null,
       "inputWidgets": {},
       "isLockedInExamMode": false,
       "latestUser": "a user",
       "latestUserId": null,
       "listResultMetadata": null,
       "metadata": {
        "byteLimit": 2048000,
        "rowLimit": 10000
       },
       "nuid": "5055a018-4a73-4bbb-8ca9-4315f2505ded",
       "origId": 0,
       "parentHierarchy": [],
       "pivotAggregation": null,
       "pivotColumns": null,
       "position": 6.162388392857142,
       "resultDbfsErrorMessage": null,
       "resultDbfsStatus": "INLINED_IN_TREE",
       "results": null,
       "showCommandTitle": false,
       "startTime": 0,
       "state": "finished",
       "streamStates": {},
       "subcommandOptions": {
        "queryPlan": {
         "groups": [
          {
           "column": "category",
           "type": "column"
          }
         ],
         "selects": [
          {
           "column": "category",
           "type": "column"
          },
          {
           "alias": "column_f76dac4740",
           "args": [
            {
             "column": "avg_danceability",
             "type": "column"
            }
           ],
           "function": "SUM",
           "type": "function"
          },
          {
           "alias": "column_f76dac4743",
           "args": [
            {
             "column": "avg_energy",
             "type": "column"
            }
           ],
           "function": "SUM",
           "type": "function"
          },
          {
           "alias": "column_f76dac4749",
           "args": [
            {
             "column": "avg_speechiness",
             "type": "column"
            }
           ],
           "function": "SUM",
           "type": "function"
          },
          {
           "alias": "column_f76dac4752",
           "args": [
            {
             "column": "avg_acousticness",
             "type": "column"
            }
           ],
           "function": "SUM",
           "type": "function"
          },
          {
           "alias": "column_f76dac4755",
           "args": [
            {
             "column": "avg_instrumentalness",
             "type": "column"
            }
           ],
           "function": "SUM",
           "type": "function"
          },
          {
           "alias": "column_f76dac4758",
           "args": [
            {
             "column": "avg_liveness",
             "type": "column"
            }
           ],
           "function": "SUM",
           "type": "function"
          },
          {
           "alias": "column_f76dac4767",
           "args": [
            {
             "column": "avg_valence",
             "type": "column"
            }
           ],
           "function": "SUM",
           "type": "function"
          }
         ]
        }
       },
       "submitTime": 0,
       "subtype": "tableResultSubCmd.visualization",
       "tableResultIndex": 0,
       "tableResultSettingsMap": null,
       "useConsistentColors": false,
       "version": "CommandV1",
       "width": "auto",
       "workflows": [],
       "xColumns": null,
       "yColumns": null
      }
     },
     "output_type": "display_data"
    },
    {
     "output_type": "display_data",
     "data": {
      "text/plain": [
       "Databricks visualization. Run in Databricks to view."
      ]
     },
     "metadata": {
      "application/vnd.databricks.v1.subcommand+json": {
       "baseErrorDetails": null,
       "bindings": {},
       "collapsed": false,
       "command": "%python\n__backend_agg_display_orig = display\n__backend_agg_dfs = []\ndef __backend_agg_display_new(df):\n    __backend_agg_df_modules = [\"pandas.core.frame\", \"databricks.koalas.frame\", \"pyspark.sql.dataframe\", \"pyspark.pandas.frame\", \"pyspark.sql.connect.dataframe\"]\n    if (type(df).__module__ in __backend_agg_df_modules and type(df).__name__ == 'DataFrame') or isinstance(df, list):\n        __backend_agg_dfs.append(df)\n\ndisplay = __backend_agg_display_new\n\ndef __backend_agg_user_code_fn():\n    import base64\n    exec(base64.standard_b64decode(\"ZGlzcGxheShjb21wYXJpc29uX2RmKQ==\").decode())\n\ntry:\n    # run user code\n    __backend_agg_user_code_fn()\n\n    #reset display function\n    display = __backend_agg_display_orig\n\n    if len(__backend_agg_dfs) > 0:\n        # create a temp view\n        if type(__backend_agg_dfs[0]).__module__ == \"databricks.koalas.frame\":\n            # koalas dataframe\n            __backend_agg_dfs[0].to_spark().createOrReplaceTempView(\"DatabricksViewcd9caf7\")\n        elif type(__backend_agg_dfs[0]).__module__ == \"pandas.core.frame\" or isinstance(__backend_agg_dfs[0], list):\n            # pandas dataframe\n            spark.createDataFrame(__backend_agg_dfs[0]).createOrReplaceTempView(\"DatabricksViewcd9caf7\")\n        else:\n            __backend_agg_dfs[0].createOrReplaceTempView(\"DatabricksViewcd9caf7\")\n        #run backend agg\n        display(spark.sql(\"\"\"WITH q AS (select * from DatabricksViewcd9caf7) SELECT `category`,SUM(`avg_tempo`) `column_f76dac4779` FROM q GROUP BY `category`\"\"\"))\n    else:\n        displayHTML(\"dataframe no longer exists. If you're using dataframe.display(), use display(dataframe) instead.\")\n\n\nfinally:\n    spark.sql(\"drop view if exists DatabricksViewcd9caf7\")\n    display = __backend_agg_display_orig\n    del __backend_agg_display_new\n    del __backend_agg_display_orig\n    del __backend_agg_dfs\n    del __backend_agg_user_code_fn\n\n",
       "commandTitle": "Visualization 3",
       "commandType": "auto",
       "commandVersion": 0,
       "commentThread": [],
       "commentsVisible": false,
       "contentSha256Hex": null,
       "customPlotOptions": {
        "redashChart": [
         {
          "key": "type",
          "value": "CHART"
         },
         {
          "key": "options",
          "value": {
           "alignYAxesAtZero": true,
           "coefficient": 1,
           "columnConfigurationMap": {
            "x": {
             "column": "category",
             "id": "column_f76dac4777"
            },
            "y": [
             {
              "column": "avg_tempo",
              "id": "column_f76dac4779",
              "transform": "SUM"
             }
            ]
           },
           "dateTimeFormat": "DD/MM/YYYY HH:mm",
           "direction": {
            "type": "counterclockwise"
           },
           "error_y": {
            "type": "data",
            "visible": true
           },
           "globalSeriesType": "column",
           "isAggregationOn": true,
           "legend": {
            "traceorder": "normal"
           },
           "missingValuesAsZero": true,
           "numberFormat": "0,0.[00000]",
           "percentFormat": "0[.]00%",
           "series": {
            "error_y": {
             "type": "data",
             "visible": true
            },
            "stacking": null
           },
           "seriesOptions": {
            "column_f76dac4779": {
             "type": "column",
             "yAxis": 0
            }
           },
           "showDataLabels": false,
           "sizemode": "diameter",
           "sortX": true,
           "sortY": true,
           "swappedAxes": false,
           "textFormat": "",
           "useAggregationsUi": true,
           "valuesOptions": {},
           "version": 2,
           "xAxis": {
            "labels": {
             "enabled": true
            },
            "type": "-"
           },
           "yAxis": [
            {
             "type": "-"
            },
            {
             "opposite": true,
             "type": "-"
            }
           ]
          }
         }
        ]
       },
       "datasetPreviewNameToCmdIdMap": {},
       "diffDeletes": [],
       "diffInserts": [],
       "displayType": "redashChart",
       "error": null,
       "errorDetails": null,
       "errorSummary": null,
       "errorTraceType": null,
       "finishTime": 0,
       "globalVars": {},
       "guid": "",
       "height": "auto",
       "hideCommandCode": false,
       "hideCommandResult": false,
       "iPythonMetadata": null,
       "inputWidgets": {},
       "isLockedInExamMode": false,
       "latestUser": "a user",
       "latestUserId": null,
       "listResultMetadata": null,
       "metadata": {
        "byteLimit": 2048000,
        "rowLimit": 10000
       },
       "nuid": "29a39bd0-1229-4c02-9300-3ef9094c7356",
       "origId": 0,
       "parentHierarchy": [],
       "pivotAggregation": null,
       "pivotColumns": null,
       "position": 7.162388392857142,
       "resultDbfsErrorMessage": null,
       "resultDbfsStatus": "INLINED_IN_TREE",
       "results": null,
       "showCommandTitle": false,
       "startTime": 0,
       "state": "finished",
       "streamStates": {},
       "subcommandOptions": {
        "queryPlan": {
         "groups": [
          {
           "column": "category",
           "type": "column"
          }
         ],
         "selects": [
          {
           "column": "category",
           "type": "column"
          },
          {
           "alias": "column_f76dac4779",
           "args": [
            {
             "column": "avg_tempo",
             "type": "column"
            }
           ],
           "function": "SUM",
           "type": "function"
          }
         ]
        }
       },
       "submitTime": 0,
       "subtype": "tableResultSubCmd.visualization",
       "tableResultIndex": 0,
       "tableResultSettingsMap": null,
       "useConsistentColors": false,
       "version": "CommandV1",
       "width": "auto",
       "workflows": [],
       "xColumns": null,
       "yColumns": null
      }
     },
     "output_type": "display_data"
    }
   ],
   "source": [
    "display(comparison_df)"
   ]
  },
  {
   "cell_type": "markdown",
   "metadata": {
    "application/vnd.databricks.v1+cell": {
     "cellMetadata": {
      "byteLimit": 2048000,
      "rowLimit": 10000
     },
     "inputWidgets": {},
     "nuid": "7565670f-29c2-4a1f-bba4-81711d4626d5",
     "showTitle": false,
     "title": ""
    }
   },
   "source": [
    "#### Задача № 3. Підрахувати кількість треків випущених кожного року"
   ]
  },
  {
   "cell_type": "code",
   "execution_count": 0,
   "metadata": {
    "application/vnd.databricks.v1+cell": {
     "cellMetadata": {
      "byteLimit": 2048000,
      "rowLimit": 10000
     },
     "inputWidgets": {},
     "nuid": "9f783557-a98c-4c33-9241-f00655765b07",
     "showTitle": false,
     "title": ""
    }
   },
   "outputs": [],
   "source": [
    "from pyspark.sql.functions import year\n",
    "\n",
    "# Додавання колонки з роком випуску\n",
    "df = df.withColumn(\"release_year\", year(\"release_date\"))\n",
    "\n",
    "# Групування за роками та обчислення кількості треків\n",
    "tracks_per_year = df.groupBy(\"release_year\").count().orderBy(\"release_year\")"
   ]
  },
  {
   "cell_type": "code",
   "execution_count": 0,
   "metadata": {
    "application/vnd.databricks.v1+cell": {
     "cellMetadata": {
      "byteLimit": 2048000,
      "rowLimit": 10000
     },
     "inputWidgets": {},
     "nuid": "2d2dcd95-fb3a-4ad2-a394-9f2427bcc9a0",
     "showTitle": false,
     "title": ""
    }
   },
   "outputs": [],
   "source": [
    "display(tracks_per_year)"
   ]
  },
  {
   "cell_type": "markdown",
   "metadata": {
    "application/vnd.databricks.v1+cell": {
     "cellMetadata": {
      "byteLimit": 2048000,
      "rowLimit": 10000
     },
     "inputWidgets": {},
     "nuid": "ba2ac4c6-dd7d-445a-9761-debb378973be",
     "showTitle": false,
     "title": ""
    }
   },
   "source": [
    "#### Задача №4. Обчислити частку треків які мають explicit контент та зобразити на діаграмі Pie. Зʼясувати як відрізняється популярність треків для треків з explicit контентом"
   ]
  },
  {
   "cell_type": "code",
   "execution_count": 0,
   "metadata": {
    "application/vnd.databricks.v1+cell": {
     "cellMetadata": {
      "byteLimit": 2048000,
      "rowLimit": 10000
     },
     "inputWidgets": {},
     "nuid": "656355ed-a2f4-488e-a940-36458013133a",
     "showTitle": false,
     "title": ""
    }
   },
   "outputs": [],
   "source": [
    "from pyspark.sql.functions import avg, count, col\n",
    "\n",
    "agg_df = df.groupBy(\"explicit\").agg(\n",
    "    count(\"popularity\").alias(\"count\"),\n",
    "    avg(\"popularity\").alias(\"avg_popularity\")\n",
    ")"
   ]
  },
  {
   "cell_type": "code",
   "execution_count": 0,
   "metadata": {
    "application/vnd.databricks.v1+cell": {
     "cellMetadata": {
      "byteLimit": 2048000,
      "rowLimit": 10000
     },
     "inputWidgets": {},
     "nuid": "91cbfafd-ff60-4989-9ce8-7dd95a3fdaf6",
     "showTitle": false,
     "title": ""
    }
   },
   "outputs": [
    {
     "output_type": "display_data",
     "data": {
      "text/html": [
       "<style scoped>\n",
       "  .table-result-container {\n",
       "    max-height: 300px;\n",
       "    overflow: auto;\n",
       "  }\n",
       "  table, th, td {\n",
       "    border: 1px solid black;\n",
       "    border-collapse: collapse;\n",
       "  }\n",
       "  th, td {\n",
       "    padding: 5px;\n",
       "  }\n",
       "  th {\n",
       "    text-align: left;\n",
       "  }\n",
       "</style><div class='table-result-container'><table class='table-result'><thead style='background-color: white'><tr><th>explicit</th><th>count</th><th>avg_popularity</th></tr></thead><tbody><tr><td>0</td><td>560808</td><td>26.73463288683471</td></tr><tr><td>1</td><td>25864</td><td>45.6844262295082</td></tr></tbody></table></div>"
      ]
     },
     "metadata": {
      "application/vnd.databricks.v1+output": {
       "addedWidgets": {},
       "aggData": [],
       "aggError": "",
       "aggOverflow": false,
       "aggSchema": [],
       "aggSeriesLimitReached": false,
       "aggType": "",
       "arguments": {},
       "columnCustomDisplayInfos": {},
       "data": [
        [
         0,
         560808,
         26.73463288683471
        ],
        [
         1,
         25864,
         45.6844262295082
        ]
       ],
       "datasetInfos": [],
       "dbfsResultPath": null,
       "isJsonSchema": true,
       "metadata": {},
       "overflow": false,
       "plotOptions": {
        "customPlotOptions": {},
        "displayType": "table",
        "pivotAggregation": null,
        "pivotColumns": null,
        "xColumns": null,
        "yColumns": null
       },
       "removedWidgets": [],
       "schema": [
        {
         "metadata": "{}",
         "name": "explicit",
         "type": "\"long\""
        },
        {
         "metadata": "{}",
         "name": "count",
         "type": "\"long\""
        },
        {
         "metadata": "{}",
         "name": "avg_popularity",
         "type": "\"double\""
        }
       ],
       "type": "table"
      }
     },
     "output_type": "display_data"
    },
    {
     "output_type": "display_data",
     "data": {
      "text/plain": [
       "Databricks visualization. Run in Databricks to view."
      ]
     },
     "metadata": {
      "application/vnd.databricks.v1.subcommand+json": {
       "baseErrorDetails": null,
       "bindings": {},
       "collapsed": false,
       "command": "%python\n__backend_agg_display_orig = display\n__backend_agg_dfs = []\ndef __backend_agg_display_new(df):\n    __backend_agg_df_modules = [\"pandas.core.frame\", \"databricks.koalas.frame\", \"pyspark.sql.dataframe\", \"pyspark.pandas.frame\", \"pyspark.sql.connect.dataframe\"]\n    if (type(df).__module__ in __backend_agg_df_modules and type(df).__name__ == 'DataFrame') or isinstance(df, list):\n        __backend_agg_dfs.append(df)\n\ndisplay = __backend_agg_display_new\n\ndef __backend_agg_user_code_fn():\n    import base64\n    exec(base64.standard_b64decode(\"ZGlzcGxheShhZ2dfZGYp\").decode())\n\ntry:\n    # run user code\n    __backend_agg_user_code_fn()\n\n    #reset display function\n    display = __backend_agg_display_orig\n\n    if len(__backend_agg_dfs) > 0:\n        # create a temp view\n        if type(__backend_agg_dfs[0]).__module__ == \"databricks.koalas.frame\":\n            # koalas dataframe\n            __backend_agg_dfs[0].to_spark().createOrReplaceTempView(\"DatabricksView511d846\")\n        elif type(__backend_agg_dfs[0]).__module__ == \"pandas.core.frame\" or isinstance(__backend_agg_dfs[0], list):\n            # pandas dataframe\n            spark.createDataFrame(__backend_agg_dfs[0]).createOrReplaceTempView(\"DatabricksView511d846\")\n        else:\n            __backend_agg_dfs[0].createOrReplaceTempView(\"DatabricksView511d846\")\n        #run backend agg\n        display(spark.sql(\"\"\"WITH q AS (select * from DatabricksView511d846) SELECT `explicit`,SUM(`count`) `column_f76dac47118` FROM q GROUP BY `explicit`\"\"\"))\n    else:\n        displayHTML(\"dataframe no longer exists. If you're using dataframe.display(), use display(dataframe) instead.\")\n\n\nfinally:\n    spark.sql(\"drop view if exists DatabricksView511d846\")\n    display = __backend_agg_display_orig\n    del __backend_agg_display_new\n    del __backend_agg_display_orig\n    del __backend_agg_dfs\n    del __backend_agg_user_code_fn\n\n",
       "commandTitle": "Visualization 1",
       "commandType": "auto",
       "commandVersion": 0,
       "commentThread": [],
       "commentsVisible": false,
       "contentSha256Hex": null,
       "customPlotOptions": {
        "redashChart": [
         {
          "key": "type",
          "value": "CHART"
         },
         {
          "key": "options",
          "value": {
           "alignYAxesAtZero": true,
           "coefficient": 1,
           "columnConfigurationMap": {
            "x": {
             "column": "explicit",
             "id": "column_f76dac47116"
            },
            "y": [
             {
              "column": "count",
              "id": "column_f76dac47118",
              "transform": "SUM"
             }
            ]
           },
           "dateTimeFormat": "DD/MM/YYYY HH:mm",
           "direction": {
            "type": "counterclockwise"
           },
           "error_y": {
            "type": "data",
            "visible": true
           },
           "globalSeriesType": "pie",
           "isAggregationOn": true,
           "legend": {
            "traceorder": "normal"
           },
           "missingValuesAsZero": true,
           "numberFormat": "0,0.[00000]",
           "percentFormat": "0[.]00%",
           "series": {
            "error_y": {
             "type": "data",
             "visible": true
            },
            "stacking": null
           },
           "seriesOptions": {
            "column_f76dac47118": {
             "name": "explicit",
             "type": "pie",
             "yAxis": 0
            }
           },
           "showDataLabels": true,
           "sizemode": "diameter",
           "sortX": true,
           "sortY": true,
           "swappedAxes": false,
           "textFormat": "",
           "useAggregationsUi": true,
           "valuesOptions": {},
           "version": 2,
           "xAxis": {
            "labels": {
             "enabled": true
            },
            "type": "-"
           },
           "yAxis": [
            {
             "type": "-"
            },
            {
             "opposite": true,
             "type": "-"
            }
           ]
          }
         }
        ]
       },
       "datasetPreviewNameToCmdIdMap": {},
       "diffDeletes": [],
       "diffInserts": [],
       "displayType": "redashChart",
       "error": null,
       "errorDetails": null,
       "errorSummary": null,
       "errorTraceType": null,
       "finishTime": 0,
       "globalVars": {},
       "guid": "",
       "height": "auto",
       "hideCommandCode": false,
       "hideCommandResult": false,
       "iPythonMetadata": null,
       "inputWidgets": {},
       "isLockedInExamMode": false,
       "latestUser": "a user",
       "latestUserId": null,
       "listResultMetadata": null,
       "metadata": {
        "byteLimit": 2048000,
        "rowLimit": 10000
       },
       "nuid": "9c7a5d91-26db-4c48-9d38-96c7853e445c",
       "origId": 0,
       "parentHierarchy": [],
       "pivotAggregation": null,
       "pivotColumns": null,
       "position": 6.49609375,
       "resultDbfsErrorMessage": null,
       "resultDbfsStatus": "INLINED_IN_TREE",
       "results": null,
       "showCommandTitle": false,
       "startTime": 0,
       "state": "finished",
       "streamStates": {},
       "subcommandOptions": {
        "queryPlan": {
         "groups": [
          {
           "column": "explicit",
           "type": "column"
          }
         ],
         "selects": [
          {
           "column": "explicit",
           "type": "column"
          },
          {
           "alias": "column_f76dac47118",
           "args": [
            {
             "column": "count",
             "type": "column"
            }
           ],
           "function": "SUM",
           "type": "function"
          }
         ]
        }
       },
       "submitTime": 0,
       "subtype": "tableResultSubCmd.visualization",
       "tableResultIndex": 0,
       "tableResultSettingsMap": null,
       "useConsistentColors": false,
       "version": "CommandV1",
       "width": "auto",
       "workflows": [],
       "xColumns": null,
       "yColumns": null
      }
     },
     "output_type": "display_data"
    },
    {
     "output_type": "display_data",
     "data": {
      "text/plain": [
       "Databricks visualization. Run in Databricks to view."
      ]
     },
     "metadata": {
      "application/vnd.databricks.v1.subcommand+json": {
       "baseErrorDetails": null,
       "bindings": {},
       "collapsed": false,
       "command": "%python\n__backend_agg_display_orig = display\n__backend_agg_dfs = []\ndef __backend_agg_display_new(df):\n    __backend_agg_df_modules = [\"pandas.core.frame\", \"databricks.koalas.frame\", \"pyspark.sql.dataframe\", \"pyspark.pandas.frame\", \"pyspark.sql.connect.dataframe\"]\n    if (type(df).__module__ in __backend_agg_df_modules and type(df).__name__ == 'DataFrame') or isinstance(df, list):\n        __backend_agg_dfs.append(df)\n\ndisplay = __backend_agg_display_new\n\ndef __backend_agg_user_code_fn():\n    import base64\n    exec(base64.standard_b64decode(\"ZGlzcGxheShhZ2dfZGYp\").decode())\n\ntry:\n    # run user code\n    __backend_agg_user_code_fn()\n\n    #reset display function\n    display = __backend_agg_display_orig\n\n    if len(__backend_agg_dfs) > 0:\n        # create a temp view\n        if type(__backend_agg_dfs[0]).__module__ == \"databricks.koalas.frame\":\n            # koalas dataframe\n            __backend_agg_dfs[0].to_spark().createOrReplaceTempView(\"DatabricksView3760fd7\")\n        elif type(__backend_agg_dfs[0]).__module__ == \"pandas.core.frame\" or isinstance(__backend_agg_dfs[0], list):\n            # pandas dataframe\n            spark.createDataFrame(__backend_agg_dfs[0]).createOrReplaceTempView(\"DatabricksView3760fd7\")\n        else:\n            __backend_agg_dfs[0].createOrReplaceTempView(\"DatabricksView3760fd7\")\n        #run backend agg\n        display(spark.sql(\"\"\"WITH q AS (select * from DatabricksView3760fd7) SELECT `explicit`,SUM(`avg_popularity`) `column_f76dac47139` FROM q GROUP BY `explicit`\"\"\"))\n    else:\n        displayHTML(\"dataframe no longer exists. If you're using dataframe.display(), use display(dataframe) instead.\")\n\n\nfinally:\n    spark.sql(\"drop view if exists DatabricksView3760fd7\")\n    display = __backend_agg_display_orig\n    del __backend_agg_display_new\n    del __backend_agg_display_orig\n    del __backend_agg_dfs\n    del __backend_agg_user_code_fn\n\n",
       "commandTitle": "Visualization 2",
       "commandType": "auto",
       "commandVersion": 0,
       "commentThread": [],
       "commentsVisible": false,
       "contentSha256Hex": null,
       "customPlotOptions": {
        "redashChart": [
         {
          "key": "type",
          "value": "CHART"
         },
         {
          "key": "options",
          "value": {
           "alignYAxesAtZero": true,
           "coefficient": 1,
           "columnConfigurationMap": {
            "x": {
             "column": "explicit",
             "id": "column_f76dac47136"
            },
            "y": [
             {
              "column": "avg_popularity",
              "id": "column_f76dac47139",
              "transform": "SUM"
             }
            ]
           },
           "dateTimeFormat": "DD/MM/YYYY HH:mm",
           "direction": {
            "type": "counterclockwise"
           },
           "error_y": {
            "type": "data",
            "visible": true
           },
           "globalSeriesType": "column",
           "isAggregationOn": true,
           "legend": {
            "traceorder": "normal"
           },
           "missingValuesAsZero": true,
           "numberFormat": "0,0.[00000]",
           "percentFormat": "0[.]00%",
           "series": {
            "error_y": {
             "type": "data",
             "visible": true
            },
            "stacking": null
           },
           "seriesOptions": {
            "column_f76dac47139": {
             "type": "column",
             "yAxis": 0
            }
           },
           "showDataLabels": false,
           "sizemode": "diameter",
           "sortX": true,
           "sortY": true,
           "swappedAxes": true,
           "textFormat": "",
           "useAggregationsUi": true,
           "valuesOptions": {},
           "version": 2,
           "xAxis": {
            "labels": {
             "enabled": true
            },
            "type": "-"
           },
           "yAxis": [
            {
             "type": "-"
            },
            {
             "opposite": true,
             "type": "-"
            }
           ]
          }
         }
        ]
       },
       "datasetPreviewNameToCmdIdMap": {},
       "diffDeletes": [],
       "diffInserts": [],
       "displayType": "redashChart",
       "error": null,
       "errorDetails": null,
       "errorSummary": null,
       "errorTraceType": null,
       "finishTime": 0,
       "globalVars": {},
       "guid": "",
       "height": "auto",
       "hideCommandCode": false,
       "hideCommandResult": false,
       "iPythonMetadata": null,
       "inputWidgets": {},
       "isLockedInExamMode": false,
       "latestUser": "a user",
       "latestUserId": null,
       "listResultMetadata": null,
       "metadata": {
        "byteLimit": 2048000,
        "rowLimit": 10000
       },
       "nuid": "6b312fae-ac97-4e9a-ab50-8de8c9ab9481",
       "origId": 0,
       "parentHierarchy": [],
       "pivotAggregation": null,
       "pivotColumns": null,
       "position": 7.49609375,
       "resultDbfsErrorMessage": null,
       "resultDbfsStatus": "INLINED_IN_TREE",
       "results": null,
       "showCommandTitle": false,
       "startTime": 0,
       "state": "finished",
       "streamStates": {},
       "subcommandOptions": {
        "queryPlan": {
         "groups": [
          {
           "column": "explicit",
           "type": "column"
          }
         ],
         "selects": [
          {
           "column": "explicit",
           "type": "column"
          },
          {
           "alias": "column_f76dac47139",
           "args": [
            {
             "column": "avg_popularity",
             "type": "column"
            }
           ],
           "function": "SUM",
           "type": "function"
          }
         ]
        }
       },
       "submitTime": 0,
       "subtype": "tableResultSubCmd.visualization",
       "tableResultIndex": 0,
       "tableResultSettingsMap": null,
       "useConsistentColors": false,
       "version": "CommandV1",
       "width": "auto",
       "workflows": [],
       "xColumns": null,
       "yColumns": null
      }
     },
     "output_type": "display_data"
    }
   ],
   "source": [
    "display(agg_df)"
   ]
  },
  {
   "cell_type": "markdown",
   "metadata": {
    "application/vnd.databricks.v1+cell": {
     "cellMetadata": {
      "byteLimit": 2048000,
      "rowLimit": 10000
     },
     "inputWidgets": {},
     "nuid": "a8cf0e67-0946-4fdd-bc37-0c81e24419f7",
     "showTitle": false,
     "title": ""
    }
   },
   "source": [
    "#### Задача №5. Матриця кореляцій"
   ]
  },
  {
   "cell_type": "code",
   "execution_count": 0,
   "metadata": {
    "application/vnd.databricks.v1+cell": {
     "cellMetadata": {
      "byteLimit": 2048000,
      "rowLimit": 10000
     },
     "inputWidgets": {},
     "nuid": "026f6322-4e0f-4b2e-81a7-d503c6c30551",
     "showTitle": false,
     "title": ""
    }
   },
   "outputs": [],
   "source": [
    "from pyspark.sql.functions import col\n",
    "from pyspark.ml.feature import VectorAssembler\n",
    "from pyspark.ml.stat import Correlation\n",
    "import pandas as pd\n",
    "import seaborn as sns\n",
    "import matplotlib.pyplot as plt\n",
    "\n",
    "# Вибір числових колонок\n",
    "features_for_corr = [\"danceability\", \"energy\", \"loudness\", \"speechiness\", \"acousticness\", \"instrumentalness\", \"liveness\", \"valence\", \"tempo\"]\n",
    "# Створення вектора з числових значень\n",
    "vector_assembler = VectorAssembler(inputCols=features_for_corr, outputCol=\"features_for_corr\")\n",
    "vector_df = vector_assembler.transform(df).select(\"features_for_corr\")\n",
    "\n",
    "# Обчислення кореляційної матриці\n",
    "correlation_matrix = Correlation.corr(vector_df, \"features_for_corr\").head()[0]\n",
    "\n",
    "# Перетворення кореляційної матриці на масив\n",
    "corr_array = correlation_matrix.toArray()\n",
    "\n",
    "# Створення DataFrame для зручної візуалізації в Seaborn\n",
    "corr_df = pd.DataFrame(corr_array, index=features_for_corr, columns=features_for_corr)"
   ]
  },
  {
   "cell_type": "code",
   "execution_count": 0,
   "metadata": {
    "application/vnd.databricks.v1+cell": {
     "cellMetadata": {
      "byteLimit": 2048000,
      "rowLimit": 10000
     },
     "inputWidgets": {},
     "nuid": "813c3ad0-8d56-4afa-a0dc-3503ac905697",
     "showTitle": false,
     "title": ""
    }
   },
   "outputs": [
    {
     "output_type": "display_data",
     "data": {
      "image/png": "[encoded data removed]"
     },
     "metadata": {
      "application/vnd.databricks.v1+output": {
       "addedWidgets": {},
       "arguments": {},
       "data": "data:image/png;base64,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\n",
       "datasetInfos": [],
       "metadata": {},
       "removedWidgets": [],
       "type": "image"
      }
     },
     "output_type": "display_data"
    }
   ],
   "source": [
    "# Побудова heatmap з використанням seaborn\n",
    "plt.figure(figsize=(12, 8))\n",
    "sns.heatmap(corr_df, annot=True, cmap=\"coolwarm\", fmt=\".2f\")\n",
    "plt.title(\"Матриця кореляцій для характеристик треків\")\n",
    "plt.show()"
   ]
  },
  {
   "cell_type": "markdown",
   "metadata": {
    "application/vnd.databricks.v1+cell": {
     "cellMetadata": {
      "byteLimit": 2048000,
      "rowLimit": 10000
     },
     "inputWidgets": {},
     "nuid": "0e3c7f43-0efa-4ec1-a555-6895fc79976a",
     "showTitle": false,
     "title": ""
    }
   },
   "source": [
    "#### Рекомендаційна система. \n",
    "#### На основі даних про музичні треки створити просту рекомендаційну систему. Система повинна приймати один або кілька треків на вхід і повертати обмежену кількість рекомендацій на основі характеристик цих треків.\n"
   ]
  },
  {
   "cell_type": "markdown",
   "metadata": {
    "application/vnd.databricks.v1+cell": {
     "cellMetadata": {
      "byteLimit": 2048000,
      "rowLimit": 10000
     },
     "inputWidgets": {},
     "nuid": "b9945783-dc4c-4f8d-a818-86604502f991",
     "showTitle": false,
     "title": ""
    }
   },
   "source": [
    "#### Ідея: Представити характеристики треків як елементи багатовимірного простору та побудувати рекомендації на основі відстані між елементами. Чим менша відстань - тим більш подібні треки.\n",
    "#### Дизайн:\n",
    "- Представити характеристики треків у вигляді векторів \n",
    "- Нормалізувати значення характеристик, щоб вони мали однаковий масштаб\n",
    "- Застосувати метод головних компонент (PCA) для зменшення розмірності\n",
    "- Розділити треки на кластери за допомою KMeans\n",
    "- Обчислити відстань між треками всередині кластера та визначити \"найближчі\" до вхідного трека."
   ]
  },
  {
   "cell_type": "markdown",
   "metadata": {
    "application/vnd.databricks.v1+cell": {
     "cellMetadata": {
      "byteLimit": 2048000,
      "rowLimit": 10000
     },
     "inputWidgets": {},
     "nuid": "0c9f645e-617e-41f5-b44b-3f39bab95f73",
     "showTitle": false,
     "title": ""
    }
   },
   "source": [
    "#### Підготовка даних: характеристики, векторизація, нормалізація"
   ]
  },
  {
   "cell_type": "code",
   "execution_count": 0,
   "metadata": {
    "application/vnd.databricks.v1+cell": {
     "cellMetadata": {
      "byteLimit": 2048000,
      "rowLimit": 10000
     },
     "inputWidgets": {},
     "nuid": "6c8bcfdc-8bdb-4774-9c49-73d400c74966",
     "showTitle": false,
     "title": ""
    }
   },
   "outputs": [],
   "source": [
    "from pyspark.ml.feature import VectorAssembler, PCA, StandardScaler\n",
    "from pyspark.ml.clustering import KMeans\n",
    "from pyspark.ml.linalg import Vectors, VectorUDT\n",
    "from pyspark.sql.functions import col, udf, lit\n",
    "from pyspark.sql.types import DoubleType\n",
    "import numpy as np\n",
    "from pyspark.sql.functions import col, current_date, datediff, to_date, coalesce\n",
    "\n",
    "# Додаємо нову характеристику: кількість днів з релізу\n",
    "df = df.withColumn(\"release_date_fixed\",coalesce(\n",
    "        to_date(col(\"release_date\"), \"yyyy-MM-dd\"),  \n",
    "        to_date(col(\"release_date\"), \"yyyy\") \n",
    "        )\n",
    ")\n",
    "df = df.withColumn(\"days_since_release\", datediff(current_date(), col(\"release_date\")))\n",
    "\n",
    "# Список характеристик для нормалізації та PCA\n",
    "features = [\"danceability\", \"energy\", \"loudness\", \"speechiness\", \"acousticness\", \n",
    "            \"instrumentalness\", \"liveness\", \"valence\", \"tempo\", \"duration_ms\", \"days_since_release\"]\n",
    "\n",
    "# Створення вектора характеристик\n",
    "vector_col = \"features\"\n",
    "assembler = VectorAssembler(inputCols=features, outputCol=vector_col)\n",
    "df_vector = assembler.transform(df).select(\"id\", \"name\", \"artists\", vector_col)\n",
    "\n",
    "# Нормалізація даних\n",
    "scaler = StandardScaler(inputCol=vector_col, outputCol=\"scaled_features\", withMean=True, withStd=True)\n",
    "scaler_model = scaler.fit(df_vector)\n",
    "df_scaled = scaler_model.transform(df_vector).select(\"id\", \"name\", \"artists\", \"scaled_features\")"
   ]
  },
  {
   "cell_type": "markdown",
   "metadata": {
    "application/vnd.databricks.v1+cell": {
     "cellMetadata": {
      "byteLimit": 2048000,
      "rowLimit": 10000
     },
     "inputWidgets": {},
     "nuid": "caf61cbf-080a-4a5d-8210-851efc28e9ea",
     "showTitle": false,
     "title": ""
    }
   },
   "source": [
    "#### Зниження розмірності та кластеризація"
   ]
  },
  {
   "cell_type": "code",
   "execution_count": 0,
   "metadata": {
    "application/vnd.databricks.v1+cell": {
     "cellMetadata": {
      "byteLimit": 2048000,
      "rowLimit": 10000
     },
     "inputWidgets": {},
     "nuid": "375efded-864a-47aa-b771-47dc52f9ff1b",
     "showTitle": false,
     "title": ""
    }
   },
   "outputs": [],
   "source": [
    "# Застосування PCA для зниження розмірності до 3 компонент\n",
    "pca = PCA(k=3, inputCol=\"scaled_features\", outputCol=\"pca_features\")\n",
    "pca_model = pca.fit(df_scaled)\n",
    "df_pca = pca_model.transform(df_scaled).select(\"id\", \"name\", \"artists\", \"pca_features\")\n",
    "\n",
    "# Створення моделі K-Means\n",
    "kmeans = KMeans(featuresCol=\"pca_features\", predictionCol=\"cluster\", k=100)\n",
    "kmeans_model = kmeans.fit(df_pca)\n",
    "\n",
    "# Трансформування даних\n",
    "df_clusters = kmeans_model.transform(df_pca)"
   ]
  },
  {
   "cell_type": "markdown",
   "metadata": {
    "application/vnd.databricks.v1+cell": {
     "cellMetadata": {
      "byteLimit": 2048000,
      "rowLimit": 10000
     },
     "inputWidgets": {},
     "nuid": "0173ce79-8de1-4ec9-8bfc-0a087addfa19",
     "showTitle": false,
     "title": ""
    }
   },
   "source": [
    "#### Застосування: Визначення кластера для заданих характеристик"
   ]
  },
  {
   "cell_type": "code",
   "execution_count": 0,
   "metadata": {
    "application/vnd.databricks.v1+cell": {
     "cellMetadata": {
      "byteLimit": 2048000,
      "rowLimit": 10000
     },
     "inputWidgets": {},
     "nuid": "58ad84fd-85a6-41d2-bbdf-c9be98d55cb1",
     "showTitle": false,
     "title": ""
    }
   },
   "outputs": [
    {
     "output_type": "stream",
     "name": "stdout",
     "output_type": "stream",
     "text": [
      "Новий трек належить до кластера: 10\n"
     ]
    }
   ],
   "source": [
    "# Прогноз Кластера для Нового Треку\n",
    "\n",
    "# Новий трек (приклад)\n",
    "new_track = {\n",
    "    \"danceability\": 0.8,\n",
    "    \"energy\": 0.6,\n",
    "    \"loudness\": -5.0,\n",
    "    \"speechiness\": 0.05,\n",
    "    \"acousticness\": 0.1,\n",
    "    \"instrumentalness\": 0.0,\n",
    "    \"liveness\": 0.15,\n",
    "    \"valence\": 0.7,\n",
    "    \"tempo\": 120.0, \n",
    "    \"duration_ms\": 100000,\n",
    "    \"days_since_release\": 5000,\n",
    "}\n",
    "\n",
    "# Перетворення нового треку на DataFrame\n",
    "new_track_df = spark.createDataFrame([new_track])\n",
    "\n",
    "# Трансформування нового треку за допомогою VectorAssembler та PCA\n",
    "new_track_vector = assembler.transform(new_track_df).select(vector_col)\n",
    "new_track_scaled = scaler_model.transform(new_track_vector).select(\"scaled_features\")\n",
    "new_track_pca = pca_model.transform(new_track_scaled).select(\"pca_features\")\n",
    "\n",
    "# Прогноз кластера для нового треку\n",
    "new_track_cluster = kmeans_model.transform(new_track_pca).select(\"cluster\").head()[0]\n",
    "print(f\"Новий трек належить до кластера: {new_track_cluster}\")"
   ]
  },
  {
   "cell_type": "markdown",
   "metadata": {
    "application/vnd.databricks.v1+cell": {
     "cellMetadata": {
      "byteLimit": 2048000,
      "rowLimit": 10000
     },
     "inputWidgets": {},
     "nuid": "97b22c30-25e3-43f7-a746-cb9a7e2d9c41",
     "showTitle": false,
     "title": ""
    }
   },
   "source": [
    "#### Застосування: Пошук \"найближчих\" треків у визначеному кластері"
   ]
  },
  {
   "cell_type": "code",
   "execution_count": 0,
   "metadata": {
    "application/vnd.databricks.v1+cell": {
     "cellMetadata": {
      "byteLimit": 2048000,
      "rowLimit": 10000
     },
     "inputWidgets": {},
     "nuid": "bdb1e54a-01a6-46d9-bcfd-f73b7c14e33f",
     "showTitle": false,
     "title": ""
    }
   },
   "outputs": [],
   "source": [
    "# Пошук Найближчих Треків у Кластері\n",
    "\n",
    "# Вибір треків у тому ж кластері\n",
    "cluster_tracks = df_clusters.filter(col(\"cluster\") == new_track_cluster).select(\"id\", \"name\", \"artists\", \"pca_features\")\n",
    "\n",
    "# Додавання нового треку з його PCA векторами\n",
    "new_track_pca_df = new_track_pca.withColumn(\"id\", lit(\"new_track\"))\n",
    "\n",
    "# Обчислення відстані від нового треку до всіх треків у кластері\n",
    "cluster_tracks_cross = cluster_tracks.alias(\"df1\").crossJoin(new_track_pca_df.alias(\"df2\")) \\\n",
    "    .select(col(\"df1.id\").alias(\"id1\"), col(\"df1.pca_features\").alias(\"features1\"), col(\"df2.pca_features\").alias(\"features2\"), col(\"name\"), col(\"artists\"))\n",
    "\n",
    "# Функція для обчислення евклідової відстані\n",
    "def euclidean_distance(x, y):\n",
    "    x = np.array(x)\n",
    "    y = np.array(y)\n",
    "    return float(np.sqrt(np.sum((x - y) ** 2)))\n",
    "\n",
    "# Реєстрація UDF для обчислення евклідової відстані\n",
    "udf_euclidean_distance = udf(euclidean_distance, DoubleType())\n",
    "\n",
    "# Додавання колонки з евклідовою відстанню\n",
    "cluster_tracks_distances = cluster_tracks_cross.withColumn(\"distance\", udf_euclidean_distance(col(\"features1\"), col(\"features2\")))\n",
    "\n",
    "# Вибір найближчих треків\n",
    "recommended_tracks = cluster_tracks_distances.orderBy(col(\"distance\").asc()).limit(10)\n",
    "# Відображення результату\n",
    "#recommended_tracks.select(\"id1\", \"name\", \"artists\", \"distance\").show(truncate=False)"
   ]
  },
  {
   "cell_type": "markdown",
   "metadata": {
    "application/vnd.databricks.v1+cell": {
     "cellMetadata": {
      "byteLimit": 2048000,
      "rowLimit": 10000
     },
     "inputWidgets": {},
     "nuid": "2ddc99d2-660a-4c62-9bd0-e445f6d8aa8a",
     "showTitle": false,
     "title": ""
    }
   },
   "source": [
    "#### Застосування: агрегація результату"
   ]
  },
  {
   "cell_type": "code",
   "execution_count": 0,
   "metadata": {
    "application/vnd.databricks.v1+cell": {
     "cellMetadata": {
      "byteLimit": 2048000,
      "rowLimit": 10000
     },
     "inputWidgets": {},
     "nuid": "7a67e1ae-ec84-431d-b170-1f72624b11ec",
     "showTitle": false,
     "title": ""
    }
   },
   "outputs": [
    {
     "output_type": "display_data",
     "data": {
      "text/html": [
       "<style scoped>\n",
       "  .table-result-container {\n",
       "    max-height: 300px;\n",
       "    overflow: auto;\n",
       "  }\n",
       "  table, th, td {\n",
       "    border: 1px solid black;\n",
       "    border-collapse: collapse;\n",
       "  }\n",
       "  th, td {\n",
       "    padding: 5px;\n",
       "  }\n",
       "  th {\n",
       "    text-align: left;\n",
       "  }\n",
       "</style><div class='table-result-container'><table class='table-result'><thead style='background-color: white'><tr><th>id1</th><th>name</th><th>artists</th><th>distance</th></tr></thead><tbody><tr><td>6M6Tkjn7e4TTVXBpudaGxb</td><td>18 Plus</td><td>['Afro Bros', 'Finest Sno']</td><td>0.02660714663205901</td></tr><tr><td>7nmNs5rnnuMRNmUB9ZucXk</td><td>Cafecito</td><td>['Carlos y Alejandra']</td><td>0.027644108174814632</td></tr><tr><td>7EvcJZcJ5RvAyNCgAWg5b9</td><td>Katse Kala</td><td>['Helena Paparizou']</td><td>0.03703797319501435</td></tr><tr><td>2xS5JB4c22hSkKcVxQtOeA</td><td>Gioca jouer</td><td>['Claudio Cecchetto']</td><td>0.03902018765690769</td></tr><tr><td>0F7FA14euOIX8KcbEturGH</td><td>Old Town Road</td><td>['Lil Nas X']</td><td>0.039542505819286124</td></tr><tr><td>3OBwsWvkcueKfRzUJuFeSl</td><td>Something New (feat. Ty Dolla $ign)</td><td>['Wiz Khalifa', 'Ty Dolla $ign']</td><td>0.03954774748445267</td></tr><tr><td>5pSvjjfsh34sLrkYSNGCl4</td><td>Down Under</td><td>['Men At Work']</td><td>0.04015081864410536</td></tr><tr><td>1e5aBqPxREGH4X3KSlVv5b</td><td>Sirpa (feat. Ulpu)</td><td>['Arttu Wiskari', 'Ulpu']</td><td>0.041936219657315935</td></tr><tr><td>7dpjEFoW2eSWIofFqUSQzN</td><td>Zelene Su Bile Oči Te</td><td>['Plavi Orkestar']</td><td>0.04318218446541541</td></tr><tr><td>30F5BxQOjeZtWKfSK8YW5K</td><td>Sirpa (feat. Ulpu)</td><td>['Arttu Wiskari', 'Ulpu']</td><td>0.04409099326466822</td></tr></tbody></table></div>"
      ]
     },
     "metadata": {
      "application/vnd.databricks.v1+output": {
       "addedWidgets": {},
       "aggData": [],
       "aggError": "",
       "aggOverflow": false,
       "aggSchema": [],
       "aggSeriesLimitReached": false,
       "aggType": "",
       "arguments": {},
       "columnCustomDisplayInfos": {},
       "data": [
        [
         "6M6Tkjn7e4TTVXBpudaGxb",
         "18 Plus",
         "['Afro Bros', 'Finest Sno']",
         0.02660714663205901
        ],
        [
         "7nmNs5rnnuMRNmUB9ZucXk",
         "Cafecito",
         "['Carlos y Alejandra']",
         0.027644108174814632
        ],
        [
         "7EvcJZcJ5RvAyNCgAWg5b9",
         "Katse Kala",
         "['Helena Paparizou']",
         0.03703797319501435
        ],
        [
         "2xS5JB4c22hSkKcVxQtOeA",
         "Gioca jouer",
         "['Claudio Cecchetto']",
         0.03902018765690769
        ],
        [
         "0F7FA14euOIX8KcbEturGH",
         "Old Town Road",
         "['Lil Nas X']",
         0.039542505819286124
        ],
        [
         "3OBwsWvkcueKfRzUJuFeSl",
         "Something New (feat. Ty Dolla $ign)",
         "['Wiz Khalifa', 'Ty Dolla $ign']",
         0.03954774748445267
        ],
        [
         "5pSvjjfsh34sLrkYSNGCl4",
         "Down Under",
         "['Men At Work']",
         0.04015081864410536
        ],
        [
         "1e5aBqPxREGH4X3KSlVv5b",
         "Sirpa (feat. Ulpu)",
         "['Arttu Wiskari', 'Ulpu']",
         0.041936219657315935
        ],
        [
         "7dpjEFoW2eSWIofFqUSQzN",
         "Zelene Su Bile Oči Te",
         "['Plavi Orkestar']",
         0.04318218446541541
        ],
        [
         "30F5BxQOjeZtWKfSK8YW5K",
         "Sirpa (feat. Ulpu)",
         "['Arttu Wiskari', 'Ulpu']",
         0.04409099326466822
        ]
       ],
       "datasetInfos": [],
       "dbfsResultPath": null,
       "isJsonSchema": true,
       "metadata": {},
       "overflow": false,
       "plotOptions": {
        "customPlotOptions": {},
        "displayType": "table",
        "pivotAggregation": null,
        "pivotColumns": null,
        "xColumns": null,
        "yColumns": null
       },
       "removedWidgets": [],
       "schema": [
        {
         "metadata": "{}",
         "name": "id1",
         "type": "\"string\""
        },
        {
         "metadata": "{}",
         "name": "name",
         "type": "\"string\""
        },
        {
         "metadata": "{}",
         "name": "artists",
         "type": "\"string\""
        },
        {
         "metadata": "{}",
         "name": "distance",
         "type": "\"double\""
        }
       ],
       "type": "table"
      }
     },
     "output_type": "display_data"
    }
   ],
   "source": [
    "display(recommended_tracks.select(\"id1\", \"name\", \"artists\", \"distance\"))"
   ]
  },
  {
   "cell_type": "markdown",
   "metadata": {
    "application/vnd.databricks.v1+cell": {
     "cellMetadata": {
      "byteLimit": 2048000,
      "rowLimit": 10000
     },
     "inputWidgets": {},
     "nuid": "2ba5a956-8926-41d9-b0fc-034910c93e2e",
     "showTitle": false,
     "title": ""
    }
   },
   "source": [
    "#### Застосування: визначення рекомендацій для групи треків із датасету <code>tracks</code>"
   ]
  },
  {
   "cell_type": "code",
   "execution_count": 0,
   "metadata": {
    "application/vnd.databricks.v1+cell": {
     "cellMetadata": {
      "byteLimit": 2048000,
      "rowLimit": 10000
     },
     "inputWidgets": {},
     "nuid": "0367a187-4029-4de4-8d2e-7eef63973016",
     "showTitle": false,
     "title": ""
    }
   },
   "outputs": [
    {
     "output_type": "stream",
     "name": "stdout",
     "output_type": "stream",
     "text": [
      "Середній вектор належить до кластера: 7\n"
     ]
    }
   ],
   "source": [
    "\n",
    "# Пошук Схожих Треків для Групи Треків\n",
    "\n",
    "# Вибір треків для яких потрібно знайти схожі (вказати їх ID)\n",
    "\n",
    "#track_ids = [\"4joiWvli4qJVEW6qZV2i2J\", \"6wfK1R6FoLpmUA9lk5ll4T\", \"7Msq9qojB7yORuJvz49iUy\"]  \n",
    "track_ids = [\"1lCRw5FEZ1gPDNPzy1K4zW\"]  \n",
    "\n",
    "# Вибір характеристик обраних треків\n",
    "selected_tracks = df_clusters.filter(col(\"id\").isin(track_ids)).select(\"pca_features\").collect()\n",
    "\n",
    "# Обчислення середнього вектора характеристик\n",
    "mean_vector = np.mean([row[\"pca_features\"] for row in selected_tracks], axis=0)\n",
    "mean_vector_udf = udf(lambda: Vectors.dense(mean_vector), VectorUDT())\n",
    "\n",
    "# Прогноз Кластера для Середнього Вектора\n",
    "\n",
    "# Перетворення середнього вектора на DataFrame\n",
    "mean_vector_df = spark.createDataFrame([(Vectors.dense(mean_vector),)], [\"pca_features\"])\n",
    "\n",
    "# Прогноз кластера для середнього вектора\n",
    "mean_vector_cluster = kmeans_model.transform(mean_vector_df).select(\"cluster\").head()[0]\n",
    "print(f\"Середній вектор належить до кластера: {mean_vector_cluster}\")"
   ]
  },
  {
   "cell_type": "code",
   "execution_count": 0,
   "metadata": {
    "application/vnd.databricks.v1+cell": {
     "cellMetadata": {
      "byteLimit": 2048000,
      "rowLimit": 10000
     },
     "inputWidgets": {},
     "nuid": "6894bfe8-9e30-4904-b70a-338cf20856b2",
     "showTitle": false,
     "title": ""
    }
   },
   "outputs": [
    {
     "output_type": "display_data",
     "data": {
      "text/html": [
       "<style scoped>\n",
       "  .table-result-container {\n",
       "    max-height: 300px;\n",
       "    overflow: auto;\n",
       "  }\n",
       "  table, th, td {\n",
       "    border: 1px solid black;\n",
       "    border-collapse: collapse;\n",
       "  }\n",
       "  th, td {\n",
       "    padding: 5px;\n",
       "  }\n",
       "  th {\n",
       "    text-align: left;\n",
       "  }\n",
       "</style><div class='table-result-container'><table class='table-result'><thead style='background-color: white'><tr><th>id1</th><th>name</th><th>artists</th><th>distance</th></tr></thead><tbody><tr><td>6Wh00mhMuECTIzEHuICquU</td><td>We Are The Champions - Remastered 2011</td><td>['Queen']</td><td>0.0</td></tr><tr><td>1lCRw5FEZ1gPDNPzy1K4zW</td><td>We Are The Champions - Remastered 2011</td><td>['Queen']</td><td>0.0</td></tr><tr><td>7ccI9cStQbQdystvc6TvxD</td><td>We Are The Champions - Remastered 2011</td><td>['Queen']</td><td>0.009383056838321309</td></tr><tr><td>0z0gqCUMdkydEttZmKze1h</td><td>We Are The Champions</td><td>['Queen']</td><td>0.021748938860884144</td></tr><tr><td>5prXUVnzXFeUf5WsjVWXmx</td><td>Sunshine In Their Eyes</td><td>['Stevie Wonder']</td><td>0.024296252189725656</td></tr><tr><td>4OycN8ayb7nBlYYfwEb2ap</td><td>Por Qué Te Fuiste \"Pa\"</td><td>['José Velez']</td><td>0.028438206032361194</td></tr><tr><td>3bt7UPeoMsT7ix5tBk1gnF</td><td>Ne Zaman Gitti Tren</td><td>['Kesmeşeker']</td><td>0.04155290845328731</td></tr><tr><td>73bLM6IiZCpx526cbeGk28</td><td>Read 'Em and Weep</td><td>['Meat Loaf']</td><td>0.04364465608428666</td></tr><tr><td>3m86qx7aIeqFcYcQ1UXUvP</td><td>The Show Must Go On</td><td>['Queen']</td><td>0.04690212874073118</td></tr><tr><td>0pH4QNsSphVLCy9zjPzqiP</td><td>Ol' 55 - 2013 Remaster</td><td>['Eagles']</td><td>0.0555088174354753</td></tr><tr><td>2gx8dTBmKpNTGSSbkoKRQq</td><td>Cheap Evening Return</td><td>['Wigwam']</td><td>0.05589521143019044</td></tr><tr><td>4UMyeXrzYSvbt9OwtOLidn</td><td>Omkar Swarupa</td><td>['Suresh Wadkar']</td><td>0.06424257181313316</td></tr><tr><td>5PIclLadKGXh31zvSY2SOK</td><td>Hurt</td><td>['Carly Simon']</td><td>0.06466488269542292</td></tr><tr><td>1KGUeUsshuD5BqEnfRWZ1d</td><td>Magic New Year - Version 2</td><td>['WoT Music Team', 'Ivan Kucherenko']</td><td>0.06467238939729596</td></tr><tr><td>1xTp65doSyf0vZz7OEsTyr</td><td>Macavity: The Mystery Cat</td><td>['Andrew Lloyd Webber', '\"Cats\" 1983 Broadway Cast', 'Wendy Edmead', 'Donna King', 'Hector Jaime Mercado', 'Kenneth Ard', 'Harry Groener']</td><td>0.0683387459617884</td></tr><tr><td>3wVmYIDF2BqBdK0lcUbHgQ</td><td>Anne Duy Sesimi</td><td>['Ferdi Tayfur']</td><td>0.07102439746816427</td></tr><tr><td>2sY3MT8x0tIUWp0nvDQP1Z</td><td>Volta pra Mim</td><td>['Roupa Nova']</td><td>0.07462367076955992</td></tr><tr><td>3P066YWo30uYia3YhVXRWU</td><td>Kedi</td><td>['Pilli Bebek']</td><td>0.07655142573728665</td></tr><tr><td>6vO7XYhGnkC5ze91nEe544</td><td>庭院深深</td><td>['江淑娜']</td><td>0.07721440086802019</td></tr><tr><td>1vLikUIXIHDR9AXZ1VJcax</td><td>Gone</td><td>['Katatonia']</td><td>0.07839507491531648</td></tr><tr><td>5xZyhiwZ992jWXRNWekMjY</td><td>Cuando Estoy Contigo</td><td>['Pete \"El Conde\" Rodriguez']</td><td>0.0818019765565577</td></tr><tr><td>4N4vviy7bwtd6jztvtkC8N</td><td>Valle De Rosas</td><td>['Yuri Buenaventura']</td><td>0.08395775302144484</td></tr><tr><td>4TKG0gpQKhCm3kjsR3hXPe</td><td>Ya Nunca Mas (Spansk version av Never Again) - Bonus Track</td><td>['Tomas Ledin']</td><td>0.08493946897834276</td></tr><tr><td>3fb6lCKvTrd21hqlF9RyN4</td><td>Hanggang Kailan Kita Mamahalin</td><td>['Angeline Quinto']</td><td>0.08528547873469414</td></tr><tr><td>5AZJIyWvL4c80VyGVU4Z4L</td><td>Canción Del Adiós</td><td>['Los Nocheros']</td><td>0.0893770868566836</td></tr><tr><td>58vKVRmDDtXWxgmCmY77Rl</td><td>Ostala Si Uvijek Ista</td><td>['Mišo Kovač']</td><td>0.0895393041095356</td></tr><tr><td>3q4bkkXAZW4VrRomp4ca2C</td><td>襪凍愛的人</td><td>['Daniel Lo']</td><td>0.09255041302872953</td></tr><tr><td>4I5Xcdu5Hnki1aP0Uxbs4n</td><td>Saawali Si Raat</td><td>['Pritam', 'Arijit Singh']</td><td>0.09468048842491007</td></tr><tr><td>3IxzZi359EegU7F27msD34</td><td>Devuélveme La Vida</td><td>['Antonio Orozco']</td><td>0.09697350988615366</td></tr><tr><td>6E6PgzxcNa1dD2xlwYyDMk</td><td>One More Chance</td><td>['Piolo Pascual']</td><td>0.09716615340880845</td></tr><tr><td>3d7EDEz4PLcXP9pufWVu6Y</td><td>Tombe la neige</td><td>['Adamo']</td><td>0.09736097105245675</td></tr><tr><td>0EbY3Hm2zbUI6dpD6ijgmA</td><td>The Man In Black - 2010 Digital Remaster</td><td>['Little River Band']</td><td>0.09754751167468763</td></tr><tr><td>5oTM0Xt2LS1ouJJuVkwJql</td><td>Que Será de Ti (Como Vai Você)</td><td>['Roberto Carlos']</td><td>0.1012082469174317</td></tr><tr><td>28FTPG1Smz5c4nAajrVfnJ</td><td>Gloria A Dios</td><td>['Danny Berrios']</td><td>0.1020216487720473</td></tr><tr><td>0TTkNmCg5vKAOXYbFmSIim</td><td>This Is the Sea - Live / 2004 Remaster</td><td>['The Waterboys']</td><td>0.10203150850347847</td></tr><tr><td>5QGXRfq0aI7TAO7siX0obf</td><td>Deniz Üstü Köpürür</td><td>['Cem Karaca']</td><td>0.10392025291480994</td></tr><tr><td>20lzW8sXHa20GVDyIwJihy</td><td>The Earth, the Sun, the Rain</td><td>['Color Me Badd', 'David \"Frazeman\" Frazer']</td><td>0.10393762595484173</td></tr><tr><td>6nzdnJMhQjR00glcrC6UG4</td><td>Oh Foi por Mim</td><td>['Ozéias de Paula']</td><td>0.10443132783876065</td></tr><tr><td>6WkRgfJb0t4WIWqadhxJj1</td><td>Work Me, Lord</td><td>['Janis Joplin']</td><td>0.10703402527685592</td></tr><tr><td>2DAsLftcRKP3iarCPmI1RY</td><td>No Sé Tú</td><td>['Luis Miguel']</td><td>0.10713022033475483</td></tr><tr><td>0Zi7sEsBzNZXPb39JzurlN</td><td>Roj Roj Aankhon Tale</td><td>['R. D. Burman', 'Asha Bhosle', 'Amit Kumar']</td><td>0.10867836639442634</td></tr><tr><td>3cm8vIZSMUPEBQWBKdwUaT</td><td>Cuando tú no estás</td><td>['Raphael']</td><td>0.11047769937911152</td></tr><tr><td>1yqy8LNCCApLfiUUVysmBf</td><td>I Agapi Sou Ti Nychta</td><td>['Dimitris Mitropanos']</td><td>0.11098274975630827</td></tr><tr><td>2IOTUmjyveFXndCgakbnHb</td><td>ロマンス ブルー</td><td>['Shogo Hamada']</td><td>0.1113186900628435</td></tr><tr><td>4xHWH1jwV5j4mBYRhxPbwZ</td><td>Time - 2011 Remastered Version</td><td>['Pink Floyd']</td><td>0.11142176194505839</td></tr><tr><td>3TO7bbrUKrOSPGRTB5MeCz</td><td>Time</td><td>['Pink Floyd']</td><td>0.11142176194505839</td></tr><tr><td>2ODc732VgksnwJYY7ElLP9</td><td>Blues for Duke</td><td>['Lawrence Brown']</td><td>0.11142823894830399</td></tr><tr><td>0giPVI3unfUcOKDukSUVKk</td><td>Var Git Ölüm</td><td>['Aytekin Ataş']</td><td>0.1116060716822854</td></tr><tr><td>76hnKo3B904sHhyeOl2ZEJ</td><td>Така, як ти</td><td>['Svyatoslav Vakarchuk']</td><td>0.11285872291487722</td></tr><tr><td>1hsANSvcIkut1BRVIHXtLO</td><td>Така, як ти</td><td>['Svyatoslav Vakarchuk']</td><td>0.11285872291487722</td></tr></tbody></table></div>"
      ]
     },
     "metadata": {
      "application/vnd.databricks.v1+output": {
       "addedWidgets": {},
       "aggData": [],
       "aggError": "",
       "aggOverflow": false,
       "aggSchema": [],
       "aggSeriesLimitReached": false,
       "aggType": "",
       "arguments": {},
       "columnCustomDisplayInfos": {},
       "data": [
        [
         "6Wh00mhMuECTIzEHuICquU",
         "We Are The Champions - Remastered 2011",
         "['Queen']",
         0.0
        ],
        [
         "1lCRw5FEZ1gPDNPzy1K4zW",
         "We Are The Champions - Remastered 2011",
         "['Queen']",
         0.0
        ],
        [
         "7ccI9cStQbQdystvc6TvxD",
         "We Are The Champions - Remastered 2011",
         "['Queen']",
         0.009383056838321309
        ],
        [
         "0z0gqCUMdkydEttZmKze1h",
         "We Are The Champions",
         "['Queen']",
         0.021748938860884144
        ],
        [
         "5prXUVnzXFeUf5WsjVWXmx",
         "Sunshine In Their Eyes",
         "['Stevie Wonder']",
         0.024296252189725656
        ],
        [
         "4OycN8ayb7nBlYYfwEb2ap",
         "Por Qué Te Fuiste \"Pa\"",
         "['José Velez']",
         0.028438206032361194
        ],
        [
         "3bt7UPeoMsT7ix5tBk1gnF",
         "Ne Zaman Gitti Tren",
         "['Kesmeşeker']",
         0.04155290845328731
        ],
        [
         "73bLM6IiZCpx526cbeGk28",
         "Read 'Em and Weep",
         "['Meat Loaf']",
         0.04364465608428666
        ],
        [
         "3m86qx7aIeqFcYcQ1UXUvP",
         "The Show Must Go On",
         "['Queen']",
         0.04690212874073118
        ],
        [
         "0pH4QNsSphVLCy9zjPzqiP",
         "Ol' 55 - 2013 Remaster",
         "['Eagles']",
         0.0555088174354753
        ],
        [
         "2gx8dTBmKpNTGSSbkoKRQq",
         "Cheap Evening Return",
         "['Wigwam']",
         0.05589521143019044
        ],
        [
         "4UMyeXrzYSvbt9OwtOLidn",
         "Omkar Swarupa",
         "['Suresh Wadkar']",
         0.06424257181313316
        ],
        [
         "5PIclLadKGXh31zvSY2SOK",
         "Hurt",
         "['Carly Simon']",
         0.06466488269542292
        ],
        [
         "1KGUeUsshuD5BqEnfRWZ1d",
         "Magic New Year - Version 2",
         "['WoT Music Team', 'Ivan Kucherenko']",
         0.06467238939729596
        ],
        [
         "1xTp65doSyf0vZz7OEsTyr",
         "Macavity: The Mystery Cat",
         "['Andrew Lloyd Webber', '\"Cats\" 1983 Broadway Cast', 'Wendy Edmead', 'Donna King', 'Hector Jaime Mercado', 'Kenneth Ard', 'Harry Groener']",
         0.0683387459617884
        ],
        [
         "3wVmYIDF2BqBdK0lcUbHgQ",
         "Anne Duy Sesimi",
         "['Ferdi Tayfur']",
         0.07102439746816427
        ],
        [
         "2sY3MT8x0tIUWp0nvDQP1Z",
         "Volta pra Mim",
         "['Roupa Nova']",
         0.07462367076955992
        ],
        [
         "3P066YWo30uYia3YhVXRWU",
         "Kedi",
         "['Pilli Bebek']",
         0.07655142573728665
        ],
        [
         "6vO7XYhGnkC5ze91nEe544",
         "庭院深深",
         "['江淑娜']",
         0.07721440086802019
        ],
        [
         "1vLikUIXIHDR9AXZ1VJcax",
         "Gone",
         "['Katatonia']",
         0.07839507491531648
        ],
        [
         "5xZyhiwZ992jWXRNWekMjY",
         "Cuando Estoy Contigo",
         "['Pete \"El Conde\" Rodriguez']",
         0.0818019765565577
        ],
        [
         "4N4vviy7bwtd6jztvtkC8N",
         "Valle De Rosas",
         "['Yuri Buenaventura']",
         0.08395775302144484
        ],
        [
         "4TKG0gpQKhCm3kjsR3hXPe",
         "Ya Nunca Mas (Spansk version av Never Again) - Bonus Track",
         "['Tomas Ledin']",
         0.08493946897834276
        ],
        [
         "3fb6lCKvTrd21hqlF9RyN4",
         "Hanggang Kailan Kita Mamahalin",
         "['Angeline Quinto']",
         0.08528547873469414
        ],
        [
         "5AZJIyWvL4c80VyGVU4Z4L",
         "Canción Del Adiós",
         "['Los Nocheros']",
         0.0893770868566836
        ],
        [
         "58vKVRmDDtXWxgmCmY77Rl",
         "Ostala Si Uvijek Ista",
         "['Mišo Kovač']",
         0.0895393041095356
        ],
        [
         "3q4bkkXAZW4VrRomp4ca2C",
         "襪凍愛的人",
         "['Daniel Lo']",
         0.09255041302872953
        ],
        [
         "4I5Xcdu5Hnki1aP0Uxbs4n",
         "Saawali Si Raat",
         "['Pritam', 'Arijit Singh']",
         0.09468048842491007
        ],
        [
         "3IxzZi359EegU7F27msD34",
         "Devuélveme La Vida",
         "['Antonio Orozco']",
         0.09697350988615366
        ],
        [
         "6E6PgzxcNa1dD2xlwYyDMk",
         "One More Chance",
         "['Piolo Pascual']",
         0.09716615340880845
        ],
        [
         "3d7EDEz4PLcXP9pufWVu6Y",
         "Tombe la neige",
         "['Adamo']",
         0.09736097105245675
        ],
        [
         "0EbY3Hm2zbUI6dpD6ijgmA",
         "The Man In Black - 2010 Digital Remaster",
         "['Little River Band']",
         0.09754751167468763
        ],
        [
         "5oTM0Xt2LS1ouJJuVkwJql",
         "Que Será de Ti (Como Vai Você)",
         "['Roberto Carlos']",
         0.1012082469174317
        ],
        [
         "28FTPG1Smz5c4nAajrVfnJ",
         "Gloria A Dios",
         "['Danny Berrios']",
         0.1020216487720473
        ],
        [
         "0TTkNmCg5vKAOXYbFmSIim",
         "This Is the Sea - Live / 2004 Remaster",
         "['The Waterboys']",
         0.10203150850347847
        ],
        [
         "5QGXRfq0aI7TAO7siX0obf",
         "Deniz Üstü Köpürür",
         "['Cem Karaca']",
         0.10392025291480994
        ],
        [
         "20lzW8sXHa20GVDyIwJihy",
         "The Earth, the Sun, the Rain",
         "['Color Me Badd', 'David \"Frazeman\" Frazer']",
         0.10393762595484173
        ],
        [
         "6nzdnJMhQjR00glcrC6UG4",
         "Oh Foi por Mim",
         "['Ozéias de Paula']",
         0.10443132783876065
        ],
        [
         "6WkRgfJb0t4WIWqadhxJj1",
         "Work Me, Lord",
         "['Janis Joplin']",
         0.10703402527685592
        ],
        [
         "2DAsLftcRKP3iarCPmI1RY",
         "No Sé Tú",
         "['Luis Miguel']",
         0.10713022033475483
        ],
        [
         "0Zi7sEsBzNZXPb39JzurlN",
         "Roj Roj Aankhon Tale",
         "['R. D. Burman', 'Asha Bhosle', 'Amit Kumar']",
         0.10867836639442634
        ],
        [
         "3cm8vIZSMUPEBQWBKdwUaT",
         "Cuando tú no estás",
         "['Raphael']",
         0.11047769937911152
        ],
        [
         "1yqy8LNCCApLfiUUVysmBf",
         "I Agapi Sou Ti Nychta",
         "['Dimitris Mitropanos']",
         0.11098274975630827
        ],
        [
         "2IOTUmjyveFXndCgakbnHb",
         "ロマンス ブルー",
         "['Shogo Hamada']",
         0.1113186900628435
        ],
        [
         "4xHWH1jwV5j4mBYRhxPbwZ",
         "Time - 2011 Remastered Version",
         "['Pink Floyd']",
         0.11142176194505839
        ],
        [
         "3TO7bbrUKrOSPGRTB5MeCz",
         "Time",
         "['Pink Floyd']",
         0.11142176194505839
        ],
        [
         "2ODc732VgksnwJYY7ElLP9",
         "Blues for Duke",
         "['Lawrence Brown']",
         0.11142823894830399
        ],
        [
         "0giPVI3unfUcOKDukSUVKk",
         "Var Git Ölüm",
         "['Aytekin Ataş']",
         0.1116060716822854
        ],
        [
         "76hnKo3B904sHhyeOl2ZEJ",
         "Така, як ти",
         "['Svyatoslav Vakarchuk']",
         0.11285872291487722
        ],
        [
         "1hsANSvcIkut1BRVIHXtLO",
         "Така, як ти",
         "['Svyatoslav Vakarchuk']",
         0.11285872291487722
        ]
       ],
       "datasetInfos": [],
       "dbfsResultPath": null,
       "isJsonSchema": true,
       "metadata": {},
       "overflow": false,
       "plotOptions": {
        "customPlotOptions": {},
        "displayType": "table",
        "pivotAggregation": null,
        "pivotColumns": null,
        "xColumns": null,
        "yColumns": null
       },
       "removedWidgets": [],
       "schema": [
        {
         "metadata": "{}",
         "name": "id1",
         "type": "\"string\""
        },
        {
         "metadata": "{}",
         "name": "name",
         "type": "\"string\""
        },
        {
         "metadata": "{}",
         "name": "artists",
         "type": "\"string\""
        },
        {
         "metadata": "{}",
         "name": "distance",
         "type": "\"double\""
        }
       ],
       "type": "table"
      }
     },
     "output_type": "display_data"
    }
   ],
   "source": [
    "# Пошук Найближчих Треків у Кластері для Середнього Вектора\n",
    "\n",
    "# Вибір треків у тому ж кластері\n",
    "cluster_tracks = df_clusters.filter(col(\"cluster\") == mean_vector_cluster).select(\"id\", \"name\", \"artists\", \"pca_features\")\n",
    "\n",
    "# Додавання середнього вектора до DataFrame\n",
    "mean_vector_pca_df = mean_vector_df.withColumn(\"id\", lit(\"mean_vector\"))\n",
    "\n",
    "# Обчислення відстані від середнього вектора до всіх треків у кластері\n",
    "cluster_tracks_cross = cluster_tracks.alias(\"df1\").crossJoin(mean_vector_pca_df.alias(\"df2\")) \\\n",
    "    .select(col(\"df1.id\").alias(\"id1\"), col(\"df1.pca_features\").alias(\"features1\"), col(\"df2.pca_features\").alias(\"features2\"), col(\"name\"), col(\"artists\"))\n",
    "\n",
    "# Додавання колонки з евклідовою відстанню\n",
    "cluster_tracks_distances = cluster_tracks_cross.withColumn(\"distance\", udf_euclidean_distance(col(\"features1\"), col(\"features2\")))\n",
    "\n",
    "# Вибір найближчих треків\n",
    "recommended_tracks = cluster_tracks_distances.orderBy(col(\"distance\").asc()).limit(50)\n",
    "\n",
    "# Відображення результату\n",
    "display(recommended_tracks.select(\"id1\", \"name\", \"artists\", \"distance\"))"
   ]
  },
  {
   "cell_type": "code",
   "execution_count": 0,
   "metadata": {
    "application/vnd.databricks.v1+cell": {
     "cellMetadata": {
      "byteLimit": 2048000,
      "rowLimit": 10000
     },
     "inputWidgets": {},
     "nuid": "c12c1cfa-5396-4fca-9445-1e7bee9d0daf",
     "showTitle": false,
     "title": ""
    }
   },
   "outputs": [],
   "source": []
  }
 ],
 "metadata": {
  "application/vnd.databricks.v1+notebook": {
   "dashboards": [
    {
     "elements": [],
     "globalVars": {},
     "guid": "",
     "layoutOption": {
      "grid": true,
      "stack": true
     },
     "nuid": "8a8ec482-c218-45a7-8dc7-62dc28dc8fbd",
     "origId": 1585704692369135,
     "title": "Тестовий дашборд",
     "version": "DashboardViewV1",
     "width": 1600
    },
    {
     "elements": [
      {
       "dashboardResultIndex": null,
       "elementNUID": "9c7a5d91-26db-4c48-9d38-96c7853e445c",
       "elementType": "command",
       "guid": "17b17f3b-fee5-4579-a24c-81f3373d9875",
       "options": {
        "autoScaleImg": false,
        "scale": 0,
        "showRunButton": true,
        "showTitle": true,
        "title": "Частка треків з explicit content",
        "titleAlign": "center"
       },
       "position": {
        "height": 6,
        "width": 12,
        "x": 0,
        "y": 19,
        "z": null
       },
       "resultIndex": null
      },
      {
       "dashboardResultIndex": null,
       "elementNUID": "92bf272a-e310-47c2-9695-d2386dd00c31",
       "elementType": "command",
       "guid": "1e86acc3-83bb-4c85-bf17-a28c2c562fb1",
       "options": null,
       "position": {
        "height": 3,
        "width": 6,
        "x": 0,
        "y": 0,
        "z": null
       },
       "resultIndex": null
      },
      {
       "dashboardResultIndex": null,
       "elementNUID": "15cd903c-9ede-4a64-ac1d-a9bf9ca84f68",
       "elementType": "command",
       "guid": "37f82ad8-da62-4c1c-929d-5b57ae862f75",
       "options": {
        "autoScaleImg": false,
        "scale": 0,
        "showRunButton": true,
        "showTitle": false,
        "titleAlign": "center"
       },
       "position": {
        "height": 4,
        "width": 6,
        "x": 7,
        "y": 15,
        "z": null
       },
       "resultIndex": null
      },
      {
       "dashboardResultIndex": null,
       "elementNUID": "5055a018-4a73-4bbb-8ca9-4315f2505ded",
       "elementType": "command",
       "guid": "495d1b1f-bcfd-4990-8273-cae84a33bc47",
       "options": {
        "autoScaleImg": false,
        "scale": 0,
        "showRunButton": true,
        "showTitle": true,
        "title": "Середні значення характеристик",
        "titleAlign": "center"
       },
       "position": {
        "height": 6,
        "width": 12,
        "x": 0,
        "y": 9,
        "z": null
       },
       "resultIndex": null
      },
      {
       "dashboardResultIndex": 0,
       "elementNUID": "813c3ad0-8d56-4afa-a0dc-3503ac905697",
       "elementType": "command",
       "guid": "4c475067-85b6-4909-9df5-e98074aa6bb0",
       "options": null,
       "position": {
        "height": 6,
        "width": 12,
        "x": 0,
        "y": 31,
        "z": null
       },
       "resultIndex": null
      },
      {
       "dashboardResultIndex": null,
       "elementNUID": "45893bbd-0a00-49b1-b714-a0dbb17ab227",
       "elementType": "command",
       "guid": "61b01800-6d84-4e2a-93ec-4ea2117e72a7",
       "options": null,
       "position": {
        "height": 6,
        "width": 12,
        "x": 0,
        "y": 3,
        "z": null
       },
       "resultIndex": null
      },
      {
       "dashboardResultIndex": null,
       "elementNUID": "588d076a-cf39-4ce9-b451-cc2080dfad4c",
       "elementType": "command",
       "guid": "63564f1c-f509-4f15-adfa-a72aad6ed110",
       "options": null,
       "position": {
        "height": 3,
        "width": 6,
        "x": 6,
        "y": 0,
        "z": null
       },
       "resultIndex": null
      },
      {
       "dashboardResultIndex": null,
       "elementNUID": "6b312fae-ac97-4e9a-ab50-8de8c9ab9481",
       "elementType": "command",
       "guid": "782af1d4-e6b1-4db2-9d27-db14a0bb2c8a",
       "options": {
        "autoScaleImg": false,
        "scale": 0,
        "showRunButton": true,
        "showTitle": true,
        "title": "Популярність треків з/без explicit",
        "titleAlign": "center"
       },
       "position": {
        "height": 6,
        "width": 12,
        "x": 0,
        "y": 25,
        "z": null
       },
       "resultIndex": null
      },
      {
       "dashboardResultIndex": null,
       "elementNUID": "29a39bd0-1229-4c02-9300-3ef9094c7356",
       "elementType": "command",
       "guid": "8595c15f-bbd9-463f-919b-db4a9f999147",
       "options": {
        "autoScaleImg": false,
        "scale": 0,
        "showRunButton": true,
        "showTitle": false,
        "titleAlign": "center"
       },
       "position": {
        "height": 4,
        "width": 7,
        "x": 0,
        "y": 15,
        "z": null
       },
       "resultIndex": null
      }
     ],
     "globalVars": {},
     "guid": "",
     "layoutOption": {
      "grid": true,
      "stack": true
     },
     "nuid": "4ab83d07-db3d-4741-b5da-fe90c19f406e",
     "origId": 1585704692369136,
     "title": "Дашборд (інструменти обробки даних)",
     "version": "DashboardViewV1",
     "width": 2048
    }
   ],
   "environmentMetadata": null,
   "language": "python",
   "notebookMetadata": {
    "mostRecentlyExecutedCommandWithImplicitDF": {
     "commandId": 500730793770401,
     "dataframes": [
      "_sqldf"
     ]
    },
    "pythonIndentUnit": 4
   },
   "notebookName": "Заняття 33. Інструменти обробки Big Data",
   "widgets": {}
  }
 },
 "nbformat": 4,
 "nbformat_minor": 0
}
